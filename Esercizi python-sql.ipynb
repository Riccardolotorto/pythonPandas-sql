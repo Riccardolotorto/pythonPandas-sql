{
 "cells": [
  {
   "cell_type": "markdown",
   "id": "45a79dcf",
   "metadata": {},
   "source": [
    "Esercizio 2: visualizzare il grafico del numero di clienti per ogni stato"
   ]
  },
  {
   "cell_type": "markdown",
   "id": "5fd03aff",
   "metadata": {},
   "source": [
    "1. connessione al database\n",
    "2. recuperiamo le informazioni (sql-query)\n",
    "3. inserisco esse nel df pandas\n",
    "4. visualizzo il grafico con matplotlib"
   ]
  },
  {
   "cell_type": "code",
   "execution_count": 1,
   "id": "721be0d6",
   "metadata": {},
   "outputs": [
    {
     "name": "stdout",
     "output_type": "stream",
     "text": [
      "Requirement already satisfied: pyodbc in c:\\programdata\\anaconda3\\lib\\site-packages (4.0.0-unsupported)\n"
     ]
    }
   ],
   "source": [
    "!pip install pyodbc"
   ]
  },
  {
   "cell_type": "code",
   "execution_count": 2,
   "id": "02551c7c",
   "metadata": {},
   "outputs": [],
   "source": [
    "import pyodbc "
   ]
  },
  {
   "cell_type": "code",
   "execution_count": 3,
   "id": "2581b6c5",
   "metadata": {},
   "outputs": [],
   "source": [
    "SERVER = '192.168.40.16\\sqlexpress'\n",
    "DATABASE = 'zhao.filippo'\n",
    "USERNAME = 'zhao.filippo'\n",
    "PASSWORD = 'xxx123##'"
   ]
  },
  {
   "cell_type": "code",
   "execution_count": 4,
   "id": "8e38d206",
   "metadata": {},
   "outputs": [],
   "source": [
    "connectionString = f'DRIVER={{SQL Server}};SERVER={SERVER};DATABASE={DATABASE};UID={USERNAME};PWD={PASSWORD}'"
   ]
  },
  {
   "cell_type": "code",
   "execution_count": 5,
   "id": "81b4a898",
   "metadata": {},
   "outputs": [],
   "source": [
    "conn = pyodbc.connect(connectionString)"
   ]
  },
  {
   "cell_type": "code",
   "execution_count": 6,
   "id": "866414a6",
   "metadata": {},
   "outputs": [],
   "source": [
    "sql_query = \"\"\"\n",
    "select sales.customers.state, COUNT(*) as numeroClienti \n",
    "from sales.customers\n",
    "group by sales.customers.state\n",
    "order by COUNT(*) desc\n",
    "\"\"\""
   ]
  },
  {
   "cell_type": "code",
   "execution_count": 7,
   "id": "56c1f896",
   "metadata": {},
   "outputs": [],
   "source": [
    "import pandas as pd"
   ]
  },
  {
   "cell_type": "code",
   "execution_count": 8,
   "id": "0b158576",
   "metadata": {},
   "outputs": [
    {
     "data": {
      "text/html": [
       "<div>\n",
       "<style scoped>\n",
       "    .dataframe tbody tr th:only-of-type {\n",
       "        vertical-align: middle;\n",
       "    }\n",
       "\n",
       "    .dataframe tbody tr th {\n",
       "        vertical-align: top;\n",
       "    }\n",
       "\n",
       "    .dataframe thead th {\n",
       "        text-align: right;\n",
       "    }\n",
       "</style>\n",
       "<table border=\"1\" class=\"dataframe\">\n",
       "  <thead>\n",
       "    <tr style=\"text-align: right;\">\n",
       "      <th></th>\n",
       "      <th>state</th>\n",
       "      <th>numeroClienti</th>\n",
       "    </tr>\n",
       "  </thead>\n",
       "  <tbody>\n",
       "    <tr>\n",
       "      <th>0</th>\n",
       "      <td>NY</td>\n",
       "      <td>1019</td>\n",
       "    </tr>\n",
       "    <tr>\n",
       "      <th>1</th>\n",
       "      <td>CA</td>\n",
       "      <td>284</td>\n",
       "    </tr>\n",
       "    <tr>\n",
       "      <th>2</th>\n",
       "      <td>TX</td>\n",
       "      <td>142</td>\n",
       "    </tr>\n",
       "  </tbody>\n",
       "</table>\n",
       "</div>"
      ],
      "text/plain": [
       "  state  numeroClienti\n",
       "0    NY           1019\n",
       "1    CA            284\n",
       "2    TX            142"
      ]
     },
     "execution_count": 8,
     "metadata": {},
     "output_type": "execute_result"
    }
   ],
   "source": [
    "data = pd.read_sql(sql_query, conn)\n",
    "data"
   ]
  },
  {
   "cell_type": "code",
   "execution_count": 9,
   "id": "1f19e6bd",
   "metadata": {},
   "outputs": [],
   "source": [
    "import matplotlib.pyplot as plt"
   ]
  },
  {
   "cell_type": "code",
   "execution_count": 10,
   "id": "20fdf821",
   "metadata": {},
   "outputs": [],
   "source": [
    "x = data.state\n",
    "y = data.numeroClienti"
   ]
  },
  {
   "cell_type": "code",
   "execution_count": 15,
   "id": "60ad9c40",
   "metadata": {},
   "outputs": [
    {
     "data": {
      "text/plain": [
       "Text(0, 0.5, 'numero clienti')"
      ]
     },
     "execution_count": 15,
     "metadata": {},
     "output_type": "execute_result"
    },
    {
     "data": {
      "image/png": "[encoded data removed]",
      "text/plain": [
       "<Figure size 720x864 with 1 Axes>"
      ]
     },
     "metadata": {
      "needs_background": "light"
     },
     "output_type": "display_data"
    }
   ],
   "source": [
    "fig, ax = plt.subplots(figsize = (10, 12))\n",
    "ax.bar(x = x, height = y)\n",
    "ax.set_title('numero di clienti per ogni stato americano')\n",
    "ax.set_xlabel('stati')\n",
    "ax.set_ylabel('numero clienti')"
   ]
  }
 ],
 "metadata": {
  "kernelspec": {
   "display_name": "Python 3",
   "language": "python",
   "name": "python3"
  },
  "language_info": {
   "codemirror_mode": {
    "name": "ipython",
    "version": 3
   },
   "file_extension": ".py",
   "mimetype": "text/x-python",
   "name": "python",
   "nbconvert_exporter": "python",
   "pygments_lexer": "ipython3",
   "version": "3.8.8"
  }
 },
 "nbformat": 4,
 "nbformat_minor": 5
}
