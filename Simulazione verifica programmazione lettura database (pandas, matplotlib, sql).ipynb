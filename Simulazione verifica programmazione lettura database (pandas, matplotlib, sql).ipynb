{
 "cells": [
  {
   "cell_type": "code",
   "execution_count": null,
   "id": "d206f1be",
   "metadata": {},
   "outputs": [],
   "source": [
    "esercizio 1:scrivere un programma per visualizzare un grafico contenente il numero di ordini seguiti da ogni componente dello staff. Il grafico deve essere un grafico a barre orizzontali, ordinato in ordine decrescente a partire dal dipentende che ha seguito il numero di ordini più alto."
   ]
  },
  {
   "cell_type": "markdown",
   "id": "d24009eb",
   "metadata": {},
   "source": [
    "!pip install pyodbc "
   ]
  },
  {
   "cell_type": "code",
   "execution_count": 1,
   "id": "2f5d20ac",
   "metadata": {},
   "outputs": [],
   "source": [
    "import pyodbc\n",
    "SERVER = '5.172.64.20\\sqlexpress'\n",
    "#SERVER = '192.168.40.16\\sqlexpress'\n",
    "DATABASE = 'zhao.filippo'\n",
    "USERNAME = 'zhao.filippo'\n",
    "PASSWORD = 'xxx123##'\n",
    "connectionString = f'DRIVER={{SQL Server}};SERVER={SERVER};DATABASE={DATABASE};UID={USERNAME};PWD={PASSWORD}'\n",
    "conn = pyodbc.connect(connectionString)"
   ]
  },
  {
   "cell_type": "code",
   "execution_count": 2,
   "id": "fe759891",
   "metadata": {},
   "outputs": [
    {
     "data": {
      "text/plain": [
       "<pyodbc.Connection at 0x2058f2a7770>"
      ]
     },
     "execution_count": 2,
     "metadata": {},
     "output_type": "execute_result"
    }
   ],
   "source": [
    "conn"
   ]
  },
  {
   "cell_type": "code",
   "execution_count": 9,
   "id": "dbd37367",
   "metadata": {},
   "outputs": [],
   "source": [
    "sql_query = \"\"\"\n",
    "select sales.staffs.first_name, sales.staffs.last_name, COUNT(sales.orders.order_id) as numeroOrdini\n",
    "from sales.staffs\n",
    "inner join sales.orders on sales.orders.staff_id = sales.staffs.staff_id\n",
    "group by sales.staffs.first_name, sales.staffs.last_name\n",
    "order by COUNT(sales.orders.order_id)\n",
    "\"\"\""
   ]
  },
  {
   "cell_type": "code",
   "execution_count": 10,
   "id": "038b5f42",
   "metadata": {},
   "outputs": [
    {
     "data": {
      "text/html": [
       "<div>\n",
       "<style scoped>\n",
       "    .dataframe tbody tr th:only-of-type {\n",
       "        vertical-align: middle;\n",
       "    }\n",
       "\n",
       "    .dataframe tbody tr th {\n",
       "        vertical-align: top;\n",
       "    }\n",
       "\n",
       "    .dataframe thead th {\n",
       "        text-align: right;\n",
       "    }\n",
       "</style>\n",
       "<table border=\"1\" class=\"dataframe\">\n",
       "  <thead>\n",
       "    <tr style=\"text-align: right;\">\n",
       "      <th></th>\n",
       "      <th>first_name</th>\n",
       "      <th>last_name</th>\n",
       "      <th>numeroOrdini</th>\n",
       "    </tr>\n",
       "  </thead>\n",
       "  <tbody>\n",
       "    <tr>\n",
       "      <th>0</th>\n",
       "      <td>Layla</td>\n",
       "      <td>Terrell</td>\n",
       "      <td>86</td>\n",
       "    </tr>\n",
       "    <tr>\n",
       "      <th>1</th>\n",
       "      <td>Kali</td>\n",
       "      <td>Vargas</td>\n",
       "      <td>88</td>\n",
       "    </tr>\n",
       "    <tr>\n",
       "      <th>2</th>\n",
       "      <td>Mireya</td>\n",
       "      <td>Copeland</td>\n",
       "      <td>164</td>\n",
       "    </tr>\n",
       "    <tr>\n",
       "      <th>3</th>\n",
       "      <td>Genna</td>\n",
       "      <td>Serrano</td>\n",
       "      <td>184</td>\n",
       "    </tr>\n",
       "    <tr>\n",
       "      <th>4</th>\n",
       "      <td>Venita</td>\n",
       "      <td>Daniel</td>\n",
       "      <td>540</td>\n",
       "    </tr>\n",
       "    <tr>\n",
       "      <th>5</th>\n",
       "      <td>Marcelene</td>\n",
       "      <td>Boyer</td>\n",
       "      <td>553</td>\n",
       "    </tr>\n",
       "  </tbody>\n",
       "</table>\n",
       "</div>"
      ],
      "text/plain": [
       "  first_name last_name  numeroOrdini\n",
       "0      Layla   Terrell            86\n",
       "1       Kali    Vargas            88\n",
       "2     Mireya  Copeland           164\n",
       "3      Genna   Serrano           184\n",
       "4     Venita    Daniel           540\n",
       "5  Marcelene     Boyer           553"
      ]
     },
     "execution_count": 10,
     "metadata": {},
     "output_type": "execute_result"
    }
   ],
   "source": [
    "import pandas as pd\n",
    "data = pd.read_sql(sql_query, conn)\n",
    "data"
   ]
  },
  {
   "cell_type": "code",
   "execution_count": 11,
   "id": "0fe8cfe9",
   "metadata": {},
   "outputs": [],
   "source": [
    "import matplotlib.pyplot as plt"
   ]
  },
  {
   "cell_type": "code",
   "execution_count": 12,
   "id": "00f1ba42",
   "metadata": {},
   "outputs": [],
   "source": [
    "x = data.first_name + ' ' + data.last_name\n",
    "y = data.numeroOrdini"
   ]
  },
  {
   "cell_type": "code",
   "execution_count": 13,
   "id": "8a02fb6d",
   "metadata": {},
   "outputs": [
    {
     "data": {
      "text/plain": [
       "Text(0, 0.5, 'dipendenti')"
      ]
     },
     "execution_count": 13,
     "metadata": {},
     "output_type": "execute_result"
    },
    {
     "data": {
      "image/png": "[encoded data removed]",
      "text/plain": [
       "<Figure size 720x864 with 1 Axes>"
      ]
     },
     "metadata": {
      "needs_background": "light"
     },
     "output_type": "display_data"
    }
   ],
   "source": [
    "fig, ax = plt.subplots(figsize = (10, 12))\n",
    "ax.barh(x, y)\n",
    "ax.set_title('numero di ordini per ogni dipendente')\n",
    "ax.set_xlabel('numero ordini')\n",
    "ax.set_ylabel('dipendenti')"
   ]
  },
  {
   "cell_type": "markdown",
   "id": "050a2fe8",
   "metadata": {},
   "source": [
    "esercizio 2:scrivere un programma per visualizzare un grafico contenente l'ammontare totale (in prezzo) degli ordini seguiti da ogni componente dello staff. Il grafico deve essere un grafico a barre verticali, ordinato in ordine decrescente a partire dal dipentende che ha l'ammontare più alto.  Per trovare l'ammontare totale, considerare il list_price della tabella order_items, applicare lo sconto e moltiplicare il risultato epr la quantità"
   ]
  },
  {
   "cell_type": "code",
   "execution_count": 14,
   "id": "1bc0e0c7",
   "metadata": {},
   "outputs": [],
   "source": [
    "sql_query2 = \"\"\"\n",
    "select sales.staffs.first_name, sales.staffs.last_name, SUM(sales.order_items.list_price * (1 - sales.order_items.discount) * sales.order_items.quantity) as sommaTotale\n",
    "from sales.staffs\n",
    "inner join sales.orders on sales.orders.staff_id = sales.staffs.staff_id\n",
    "inner join sales.order_items on sales.order_items.order_id = sales.orders.order_id\n",
    "group by sales.staffs.first_name, sales.staffs.last_name\n",
    "order by SUM(sales.order_items.list_price * (1 - sales.order_items.discount) * sales.order_items.quantity) desc\n",
    "\"\"\""
   ]
  },
  {
   "cell_type": "code",
   "execution_count": 15,
   "id": "1c7d02fc",
   "metadata": {},
   "outputs": [
    {
     "data": {
      "text/html": [
       "<div>\n",
       "<style scoped>\n",
       "    .dataframe tbody tr th:only-of-type {\n",
       "        vertical-align: middle;\n",
       "    }\n",
       "\n",
       "    .dataframe tbody tr th {\n",
       "        vertical-align: top;\n",
       "    }\n",
       "\n",
       "    .dataframe thead th {\n",
       "        text-align: right;\n",
       "    }\n",
       "</style>\n",
       "<table border=\"1\" class=\"dataframe\">\n",
       "  <thead>\n",
       "    <tr style=\"text-align: right;\">\n",
       "      <th></th>\n",
       "      <th>first_name</th>\n",
       "      <th>last_name</th>\n",
       "      <th>sommaTotale</th>\n",
       "    </tr>\n",
       "  </thead>\n",
       "  <tbody>\n",
       "    <tr>\n",
       "      <th>0</th>\n",
       "      <td>Marcelene</td>\n",
       "      <td>Boyer</td>\n",
       "      <td>2.624121e+06</td>\n",
       "    </tr>\n",
       "    <tr>\n",
       "      <th>1</th>\n",
       "      <td>Venita</td>\n",
       "      <td>Daniel</td>\n",
       "      <td>2.591631e+06</td>\n",
       "    </tr>\n",
       "    <tr>\n",
       "      <th>2</th>\n",
       "      <td>Genna</td>\n",
       "      <td>Serrano</td>\n",
       "      <td>8.532874e+05</td>\n",
       "    </tr>\n",
       "    <tr>\n",
       "      <th>3</th>\n",
       "      <td>Mireya</td>\n",
       "      <td>Copeland</td>\n",
       "      <td>7.525357e+05</td>\n",
       "    </tr>\n",
       "    <tr>\n",
       "      <th>4</th>\n",
       "      <td>Kali</td>\n",
       "      <td>Vargas</td>\n",
       "      <td>4.639183e+05</td>\n",
       "    </tr>\n",
       "    <tr>\n",
       "      <th>5</th>\n",
       "      <td>Layla</td>\n",
       "      <td>Terrell</td>\n",
       "      <td>4.036239e+05</td>\n",
       "    </tr>\n",
       "  </tbody>\n",
       "</table>\n",
       "</div>"
      ],
      "text/plain": [
       "  first_name last_name   sommaTotale\n",
       "0  Marcelene     Boyer  2.624121e+06\n",
       "1     Venita    Daniel  2.591631e+06\n",
       "2      Genna   Serrano  8.532874e+05\n",
       "3     Mireya  Copeland  7.525357e+05\n",
       "4       Kali    Vargas  4.639183e+05\n",
       "5      Layla   Terrell  4.036239e+05"
      ]
     },
     "execution_count": 15,
     "metadata": {},
     "output_type": "execute_result"
    }
   ],
   "source": [
    "data2 = pd.read_sql(sql_query2, conn)\n",
    "data2"
   ]
  },
  {
   "cell_type": "code",
   "execution_count": 16,
   "id": "bbffa838",
   "metadata": {},
   "outputs": [
    {
     "data": {
      "text/plain": [
       "Text(0, 0.5, 'sommaTotale')"
      ]
     },
     "execution_count": 16,
     "metadata": {},
     "output_type": "execute_result"
    },
    {
     "data": {
      "image/png": "[encoded data removed]",
      "text/plain": [
       "<Figure size 720x864 with 1 Axes>"
      ]
     },
     "metadata": {
      "needs_background": "light"
     },
     "output_type": "display_data"
    }
   ],
   "source": [
    "x2 = data2.first_name + ' ' + data.last_name\n",
    "y2 = data2.sommaTotale\n",
    "fig, ax = plt.subplots(figsize = (10, 12))\n",
    "ax.bar(x2, y2)\n",
    "ax.set_title('ammontare totale per ogni dipendente')\n",
    "ax.set_xlabel('dipendenti')\n",
    "ax.set_ylabel('sommaTotale')"
   ]
  },
  {
   "cell_type": "markdown",
   "id": "9354d289",
   "metadata": {},
   "source": [
    "esercizio 3:scrivere un programma per visualizzare un grafico contenente l'ammontare totale medio (in prezzo) degli ordini seguiti da ogni componente dello staff. Il grafico deve essere un grafico a barre orizzontali, ordinato in ordine decrescente a partire dal dipentende che ha l'ammontare più alto. "
   ]
  },
  {
   "cell_type": "code",
   "execution_count": 17,
   "id": "bb8f7bee",
   "metadata": {},
   "outputs": [],
   "source": [
    "sql_query3 = \"\"\"\n",
    "select sales.staffs.first_name, sales.staffs.last_name, AVG(sales.order_items.list_price * (1 - sales.order_items.discount) * sales.order_items.quantity) as ammontareMedio\n",
    "from sales.staffs\n",
    "inner join sales.orders on sales.orders.staff_id = sales.staffs.staff_id\n",
    "inner join sales.order_items on sales.order_items.order_id = sales.orders.order_id\n",
    "group by sales.staffs.first_name, sales.staffs.last_name\n",
    "order by AVG(sales.order_items.list_price * (1 - sales.order_items.discount) * sales.order_items.quantity) desc\n",
    "\"\"\""
   ]
  },
  {
   "cell_type": "code",
   "execution_count": 18,
   "id": "62fe718c",
   "metadata": {},
   "outputs": [
    {
     "data": {
      "text/html": [
       "<div>\n",
       "<style scoped>\n",
       "    .dataframe tbody tr th:only-of-type {\n",
       "        vertical-align: middle;\n",
       "    }\n",
       "\n",
       "    .dataframe tbody tr th {\n",
       "        vertical-align: top;\n",
       "    }\n",
       "\n",
       "    .dataframe thead th {\n",
       "        text-align: right;\n",
       "    }\n",
       "</style>\n",
       "<table border=\"1\" class=\"dataframe\">\n",
       "  <thead>\n",
       "    <tr style=\"text-align: right;\">\n",
       "      <th></th>\n",
       "      <th>first_name</th>\n",
       "      <th>last_name</th>\n",
       "      <th>ammontareMedio</th>\n",
       "    </tr>\n",
       "  </thead>\n",
       "  <tbody>\n",
       "    <tr>\n",
       "      <th>0</th>\n",
       "      <td>Kali</td>\n",
       "      <td>Vargas</td>\n",
       "      <td>1724.603362</td>\n",
       "    </tr>\n",
       "    <tr>\n",
       "      <th>1</th>\n",
       "      <td>Venita</td>\n",
       "      <td>Daniel</td>\n",
       "      <td>1640.272547</td>\n",
       "    </tr>\n",
       "    <tr>\n",
       "      <th>2</th>\n",
       "      <td>Mireya</td>\n",
       "      <td>Copeland</td>\n",
       "      <td>1628.865103</td>\n",
       "    </tr>\n",
       "    <tr>\n",
       "      <th>3</th>\n",
       "      <td>Marcelene</td>\n",
       "      <td>Boyer</td>\n",
       "      <td>1624.842509</td>\n",
       "    </tr>\n",
       "    <tr>\n",
       "      <th>4</th>\n",
       "      <td>Layla</td>\n",
       "      <td>Terrell</td>\n",
       "      <td>1601.682297</td>\n",
       "    </tr>\n",
       "    <tr>\n",
       "      <th>5</th>\n",
       "      <td>Genna</td>\n",
       "      <td>Serrano</td>\n",
       "      <td>1568.542939</td>\n",
       "    </tr>\n",
       "  </tbody>\n",
       "</table>\n",
       "</div>"
      ],
      "text/plain": [
       "  first_name last_name  ammontareMedio\n",
       "0       Kali    Vargas     1724.603362\n",
       "1     Venita    Daniel     1640.272547\n",
       "2     Mireya  Copeland     1628.865103\n",
       "3  Marcelene     Boyer     1624.842509\n",
       "4      Layla   Terrell     1601.682297\n",
       "5      Genna   Serrano     1568.542939"
      ]
     },
     "execution_count": 18,
     "metadata": {},
     "output_type": "execute_result"
    }
   ],
   "source": [
    "data3 = pd.read_sql(sql_query3, conn)\n",
    "data3"
   ]
  },
  {
   "cell_type": "code",
   "execution_count": 19,
   "id": "b5cf8866",
   "metadata": {},
   "outputs": [
    {
     "data": {
      "text/plain": [
       "Text(0, 0.5, 'dipendenti')"
      ]
     },
     "execution_count": 19,
     "metadata": {},
     "output_type": "execute_result"
    },
    {
     "data": {
      "image/png": "[encoded data removed]",
      "text/plain": [
       "<Figure size 720x864 with 1 Axes>"
      ]
     },
     "metadata": {
      "needs_background": "light"
     },
     "output_type": "display_data"
    }
   ],
   "source": [
    "x3 = data3.first_name + ' ' + data.last_name\n",
    "y3 = data3.ammontareMedio\n",
    "fig, ax = plt.subplots(figsize = (10, 12))\n",
    "ax.barh(x3, y3)\n",
    "ax.set_title('ammontare medio per ogni dipendente')\n",
    "ax.set_xlabel('sommaTotale')\n",
    "ax.set_ylabel('dipendenti')"
   ]
  },
  {
   "cell_type": "markdown",
   "id": "0c3f369b",
   "metadata": {},
   "source": [
    "esercizio 4:scrivere un programma per visualizzare un grafico contenente quanto è stato venduto (in termini di ammontare totale) da ogni negozio. Il grafico da produrre deve essere un grafico a torta con indicate le percentuali di vendita dei prodotti sul totale delle vendite."
   ]
  },
  {
   "cell_type": "code",
   "execution_count": 20,
   "id": "61cabd1b",
   "metadata": {},
   "outputs": [],
   "source": [
    "sql_query4 = \"\"\"\n",
    "select sales.stores.store_name, SUM(sales.order_items.list_price * (1 - sales.order_items.discount) * sales.order_items.quantity) as sommaTotale\n",
    "from sales.stores\n",
    "inner join sales.orders on sales.orders.store_id = sales.stores.store_id\n",
    "inner join sales.order_items on sales.order_items.order_id = sales.orders.order_id\n",
    "group by sales.stores.store_name\n",
    "order by SUM(sales.order_items.list_price * (1 - sales.order_items.discount) * sales.order_items.quantity) desc\n",
    "\"\"\""
   ]
  },
  {
   "cell_type": "code",
   "execution_count": 21,
   "id": "c7e5844f",
   "metadata": {},
   "outputs": [
    {
     "data": {
      "text/html": [
       "<div>\n",
       "<style scoped>\n",
       "    .dataframe tbody tr th:only-of-type {\n",
       "        vertical-align: middle;\n",
       "    }\n",
       "\n",
       "    .dataframe tbody tr th {\n",
       "        vertical-align: top;\n",
       "    }\n",
       "\n",
       "    .dataframe thead th {\n",
       "        text-align: right;\n",
       "    }\n",
       "</style>\n",
       "<table border=\"1\" class=\"dataframe\">\n",
       "  <thead>\n",
       "    <tr style=\"text-align: right;\">\n",
       "      <th></th>\n",
       "      <th>store_name</th>\n",
       "      <th>sommaTotale</th>\n",
       "    </tr>\n",
       "  </thead>\n",
       "  <tbody>\n",
       "    <tr>\n",
       "      <th>0</th>\n",
       "      <td>Baldwin Bikes</td>\n",
       "      <td>5.215751e+06</td>\n",
       "    </tr>\n",
       "    <tr>\n",
       "      <th>1</th>\n",
       "      <td>Santa Cruz Bikes</td>\n",
       "      <td>1.605823e+06</td>\n",
       "    </tr>\n",
       "    <tr>\n",
       "      <th>2</th>\n",
       "      <td>Rowlett Bikes</td>\n",
       "      <td>8.675422e+05</td>\n",
       "    </tr>\n",
       "  </tbody>\n",
       "</table>\n",
       "</div>"
      ],
      "text/plain": [
       "         store_name   sommaTotale\n",
       "0     Baldwin Bikes  5.215751e+06\n",
       "1  Santa Cruz Bikes  1.605823e+06\n",
       "2     Rowlett Bikes  8.675422e+05"
      ]
     },
     "execution_count": 21,
     "metadata": {},
     "output_type": "execute_result"
    }
   ],
   "source": [
    "data4 = pd.read_sql(sql_query4, conn)\n",
    "data4"
   ]
  },
  {
   "cell_type": "code",
   "execution_count": 22,
   "id": "3fd67fb8",
   "metadata": {},
   "outputs": [
    {
     "data": {
      "image/png": "[encoded data removed]",
      "text/plain": [
       "<Figure size 1152x576 with 1 Axes>"
      ]
     },
     "metadata": {},
     "output_type": "display_data"
    }
   ],
   "source": [
    "x4 = data4.store_name\n",
    "y4 = data4.sommaTotale\n",
    "plt.figure(figsize=(16, 8))\n",
    "plt.pie(y4, labels=x4, autopct='%1.1f%%')\n",
    "plt.show()"
   ]
  },
  {
   "cell_type": "markdown",
   "id": "2883c07e",
   "metadata": {},
   "source": [
    "esercizio 5:come il precedente, ma visualizzando i valori assoluti e non le percentuali"
   ]
  },
  {
   "cell_type": "code",
   "execution_count": 23,
   "id": "ef0b72cc",
   "metadata": {},
   "outputs": [
    {
     "data": {
      "image/png": "[encoded data removed]",
      "text/plain": [
       "<Figure size 1152x576 with 1 Axes>"
      ]
     },
     "metadata": {},
     "output_type": "display_data"
    }
   ],
   "source": [
    "x5 = data4.store_name\n",
    "y5 = data4.sommaTotale\n",
    "plt.figure(figsize=(16, 8))\n",
    "plt.pie(y4, labels=x4, autopct=lambda p:  '{:.0f}'.format(p * (y5.sum()) / 100))\n",
    "plt.show()"
   ]
  },
  {
   "cell_type": "markdown",
   "id": "1f71c9cf",
   "metadata": {},
   "source": [
    "esercizio 6: scrivere un programma che dato il nome del prodotto (inserito dall'utente), visualizzi il nome e la mail dei clienti che non hanno acquistato quel prodotto"
   ]
  },
  {
   "cell_type": "code",
   "execution_count": 24,
   "id": "d72ef9ea",
   "metadata": {},
   "outputs": [
    {
     "name": "stdout",
     "output_type": "stream",
     "text": [
      "inserire nome del prodotto: Trek 820 - 2016\n"
     ]
    }
   ],
   "source": [
    "nomeProdotto = input('inserire nome del prodotto: ')"
   ]
  },
  {
   "cell_type": "code",
   "execution_count": 25,
   "id": "f4bc4285",
   "metadata": {},
   "outputs": [],
   "source": [
    "sql_query6 = f\"\"\"  \n",
    "select distinct sales.customers.last_name, sales.customers.email\n",
    "from production.products \n",
    "inner join sales.order_items on sales.order_items.product_id = production.products.product_id\n",
    "inner join sales.orders on sales.orders.order_id = sales.order_items.order_id\n",
    "inner join sales.customers on sales.customers.customer_id = sales.orders.customer_id\n",
    "where sales.orders.customer_id not in (select sales.customers.customer_id from sales.customers \n",
    "where production.products.product_name = '{nomeProdotto}')\n",
    "\"\"\""
   ]
  },
  {
   "cell_type": "code",
   "execution_count": 26,
   "id": "ed44cb44",
   "metadata": {},
   "outputs": [
    {
     "data": {
      "text/html": [
       "<div>\n",
       "<style scoped>\n",
       "    .dataframe tbody tr th:only-of-type {\n",
       "        vertical-align: middle;\n",
       "    }\n",
       "\n",
       "    .dataframe tbody tr th {\n",
       "        vertical-align: top;\n",
       "    }\n",
       "\n",
       "    .dataframe thead th {\n",
       "        text-align: right;\n",
       "    }\n",
       "</style>\n",
       "<table border=\"1\" class=\"dataframe\">\n",
       "  <thead>\n",
       "    <tr style=\"text-align: right;\">\n",
       "      <th></th>\n",
       "      <th>last_name</th>\n",
       "      <th>email</th>\n",
       "    </tr>\n",
       "  </thead>\n",
       "  <tbody>\n",
       "    <tr>\n",
       "      <th>0</th>\n",
       "      <td>Acevedo</td>\n",
       "      <td>ester.acevedo@gmail.com</td>\n",
       "    </tr>\n",
       "    <tr>\n",
       "      <th>1</th>\n",
       "      <td>Acevedo</td>\n",
       "      <td>jamika.acevedo@yahoo.com</td>\n",
       "    </tr>\n",
       "    <tr>\n",
       "      <th>2</th>\n",
       "      <td>Acevedo</td>\n",
       "      <td>penny.acevedo@yahoo.com</td>\n",
       "    </tr>\n",
       "    <tr>\n",
       "      <th>3</th>\n",
       "      <td>Acosta</td>\n",
       "      <td>bettyann.acosta@gmail.com</td>\n",
       "    </tr>\n",
       "    <tr>\n",
       "      <th>4</th>\n",
       "      <td>Acosta</td>\n",
       "      <td>shery.acosta@yahoo.com</td>\n",
       "    </tr>\n",
       "    <tr>\n",
       "      <th>...</th>\n",
       "      <td>...</td>\n",
       "      <td>...</td>\n",
       "    </tr>\n",
       "    <tr>\n",
       "      <th>1440</th>\n",
       "      <td>Young</td>\n",
       "      <td>edda.young@gmail.com</td>\n",
       "    </tr>\n",
       "    <tr>\n",
       "      <th>1441</th>\n",
       "      <td>Young</td>\n",
       "      <td>jasmin.young@gmail.com</td>\n",
       "    </tr>\n",
       "    <tr>\n",
       "      <th>1442</th>\n",
       "      <td>Zamora</td>\n",
       "      <td>alexandria.zamora@yahoo.com</td>\n",
       "    </tr>\n",
       "    <tr>\n",
       "      <th>1443</th>\n",
       "      <td>Zamora</td>\n",
       "      <td>jayme.zamora@gmail.com</td>\n",
       "    </tr>\n",
       "    <tr>\n",
       "      <th>1444</th>\n",
       "      <td>Zimmerman</td>\n",
       "      <td>ollie.zimmerman@yahoo.com</td>\n",
       "    </tr>\n",
       "  </tbody>\n",
       "</table>\n",
       "<p>1445 rows × 2 columns</p>\n",
       "</div>"
      ],
      "text/plain": [
       "      last_name                        email\n",
       "0       Acevedo      ester.acevedo@gmail.com\n",
       "1       Acevedo     jamika.acevedo@yahoo.com\n",
       "2       Acevedo      penny.acevedo@yahoo.com\n",
       "3        Acosta    bettyann.acosta@gmail.com\n",
       "4        Acosta       shery.acosta@yahoo.com\n",
       "...         ...                          ...\n",
       "1440      Young         edda.young@gmail.com\n",
       "1441      Young       jasmin.young@gmail.com\n",
       "1442     Zamora  alexandria.zamora@yahoo.com\n",
       "1443     Zamora       jayme.zamora@gmail.com\n",
       "1444  Zimmerman    ollie.zimmerman@yahoo.com\n",
       "\n",
       "[1445 rows x 2 columns]"
      ]
     },
     "execution_count": 26,
     "metadata": {},
     "output_type": "execute_result"
    }
   ],
   "source": [
    "data6 = pd.read_sql(sql_query6, conn)\n",
    "data6"
   ]
  },
  {
   "cell_type": "markdown",
   "id": "90d3075a",
   "metadata": {},
   "source": [
    "esercizio 7: scrivere un programma che visualizzi il prodotto più acquistato (come numero di pezzi venduti). Tenere in considerazione il valore di quantity negli ordini"
   ]
  },
  {
   "cell_type": "code",
   "execution_count": 33,
   "id": "e5c5dce7",
   "metadata": {},
   "outputs": [],
   "source": [
    "sql_query7 = \"\"\"\n",
    "select distinct production.products.product_name, SUM(sales.order_items.quantity) as numeroVendite\n",
    "from production.products \n",
    "inner join sales.order_items on sales.order_items.product_id = production.products.product_id\n",
    "inner join sales.orders on sales.orders.order_id = sales.order_items.order_id\n",
    "group by production.products.product_name\n",
    "having SUM(sales.order_items.quantity) = (\n",
    "    SELECT max(numero) from (\n",
    "        SELECT SUM(sales.order_items.quantity) as numero\n",
    "        from production.products \n",
    "        inner join sales.order_items on sales.order_items.product_id = production.products.product_id\n",
    "        inner join sales.orders on sales.orders.order_id = sales.order_items.order_id\n",
    "        group by production.products.product_name) as tabella)\n",
    "\"\"\""
   ]
  },
  {
   "cell_type": "code",
   "execution_count": 34,
   "id": "418cb361",
   "metadata": {},
   "outputs": [
    {
     "data": {
      "text/html": [
       "<div>\n",
       "<style scoped>\n",
       "    .dataframe tbody tr th:only-of-type {\n",
       "        vertical-align: middle;\n",
       "    }\n",
       "\n",
       "    .dataframe tbody tr th {\n",
       "        vertical-align: top;\n",
       "    }\n",
       "\n",
       "    .dataframe thead th {\n",
       "        text-align: right;\n",
       "    }\n",
       "</style>\n",
       "<table border=\"1\" class=\"dataframe\">\n",
       "  <thead>\n",
       "    <tr style=\"text-align: right;\">\n",
       "      <th></th>\n",
       "      <th>product_name</th>\n",
       "      <th>numeroVendite</th>\n",
       "    </tr>\n",
       "  </thead>\n",
       "  <tbody>\n",
       "    <tr>\n",
       "      <th>0</th>\n",
       "      <td>Electra Cruiser 1 (24-Inch) - 2016</td>\n",
       "      <td>296</td>\n",
       "    </tr>\n",
       "  </tbody>\n",
       "</table>\n",
       "</div>"
      ],
      "text/plain": [
       "                         product_name  numeroVendite\n",
       "0  Electra Cruiser 1 (24-Inch) - 2016            296"
      ]
     },
     "execution_count": 34,
     "metadata": {},
     "output_type": "execute_result"
    }
   ],
   "source": [
    "data7 = pd.read_sql(sql_query7, conn)\n",
    "data7"
   ]
  },
  {
   "cell_type": "markdown",
   "id": "1b8e3e97",
   "metadata": {},
   "source": [
    "esercizio 8:scrivere un programma che visualizzi l'andamento delle vendite in un negozio. Il programma deve chiedere il nome del negozio e deve visualizzare un grafico a barre verticali con i mesi (e gli anni) sulle ascisse e il totale delle vendite sulle ordinate"
   ]
  },
  {
   "cell_type": "code",
   "execution_count": 3,
   "id": "9b63b956",
   "metadata": {},
   "outputs": [],
   "source": [
    "import pandas as pd\n",
    "import matplotlib.pyplot as plt"
   ]
  },
  {
   "cell_type": "code",
   "execution_count": 5,
   "id": "3f3c8043",
   "metadata": {},
   "outputs": [
    {
     "name": "stdout",
     "output_type": "stream",
     "text": [
      "inserire nome store: Santa Cruz Bikes\n"
     ]
    }
   ],
   "source": [
    "store = input('inserire nome store: ')"
   ]
  },
  {
   "cell_type": "code",
   "execution_count": 8,
   "id": "18ea5cc9",
   "metadata": {},
   "outputs": [],
   "source": [
    "sql_query8 = f\"\"\"\n",
    "select cast(YEAR(order_date) as VARCHAR) +' '+ cast(MONTH(order_date) as VARCHAR) as data,count(order_id) as numeroVendite \n",
    "from sales.stores\n",
    "inner join sales.orders on orders.store_id = stores.store_id\n",
    "where store_name='{store}'\n",
    "GROUP by YEAR(order_date),MONTH(order_date)\n",
    "ORDER by YEAR(order_date),MONTH(order_date)\n",
    "\"\"\""
   ]
  },
  {
   "cell_type": "code",
   "execution_count": 9,
   "id": "64ef9ae4",
   "metadata": {},
   "outputs": [
    {
     "name": "stderr",
     "output_type": "stream",
     "text": [
      "C:\\Users\\ricca\\AppData\\Local\\Temp\\ipykernel_18276\\2968603158.py:1: UserWarning: pandas only supports SQLAlchemy connectable (engine/connection) or database string URI or sqlite3 DBAPI2 connection. Other DBAPI2 objects are not tested. Please consider using SQLAlchemy.\n",
      "  data8 = pd.read_sql(sql_query8, conn)\n"
     ]
    },
    {
     "data": {
      "text/html": [
       "<div>\n",
       "<style scoped>\n",
       "    .dataframe tbody tr th:only-of-type {\n",
       "        vertical-align: middle;\n",
       "    }\n",
       "\n",
       "    .dataframe tbody tr th {\n",
       "        vertical-align: top;\n",
       "    }\n",
       "\n",
       "    .dataframe thead th {\n",
       "        text-align: right;\n",
       "    }\n",
       "</style>\n",
       "<table border=\"1\" class=\"dataframe\">\n",
       "  <thead>\n",
       "    <tr style=\"text-align: right;\">\n",
       "      <th></th>\n",
       "      <th>data</th>\n",
       "      <th>numeroVendite</th>\n",
       "    </tr>\n",
       "  </thead>\n",
       "  <tbody>\n",
       "    <tr>\n",
       "      <th>0</th>\n",
       "      <td>2016 1</td>\n",
       "      <td>14</td>\n",
       "    </tr>\n",
       "    <tr>\n",
       "      <th>1</th>\n",
       "      <td>2016 2</td>\n",
       "      <td>10</td>\n",
       "    </tr>\n",
       "    <tr>\n",
       "      <th>2</th>\n",
       "      <td>2016 3</td>\n",
       "      <td>10</td>\n",
       "    </tr>\n",
       "    <tr>\n",
       "      <th>3</th>\n",
       "      <td>2016 4</td>\n",
       "      <td>12</td>\n",
       "    </tr>\n",
       "    <tr>\n",
       "      <th>4</th>\n",
       "      <td>2016 5</td>\n",
       "      <td>8</td>\n",
       "    </tr>\n",
       "    <tr>\n",
       "      <th>5</th>\n",
       "      <td>2016 6</td>\n",
       "      <td>8</td>\n",
       "    </tr>\n",
       "    <tr>\n",
       "      <th>6</th>\n",
       "      <td>2016 7</td>\n",
       "      <td>4</td>\n",
       "    </tr>\n",
       "    <tr>\n",
       "      <th>7</th>\n",
       "      <td>2016 8</td>\n",
       "      <td>11</td>\n",
       "    </tr>\n",
       "    <tr>\n",
       "      <th>8</th>\n",
       "      <td>2016 9</td>\n",
       "      <td>15</td>\n",
       "    </tr>\n",
       "    <tr>\n",
       "      <th>9</th>\n",
       "      <td>2016 10</td>\n",
       "      <td>17</td>\n",
       "    </tr>\n",
       "    <tr>\n",
       "      <th>10</th>\n",
       "      <td>2016 11</td>\n",
       "      <td>11</td>\n",
       "    </tr>\n",
       "    <tr>\n",
       "      <th>11</th>\n",
       "      <td>2016 12</td>\n",
       "      <td>12</td>\n",
       "    </tr>\n",
       "    <tr>\n",
       "      <th>12</th>\n",
       "      <td>2017 1</td>\n",
       "      <td>13</td>\n",
       "    </tr>\n",
       "    <tr>\n",
       "      <th>13</th>\n",
       "      <td>2017 2</td>\n",
       "      <td>10</td>\n",
       "    </tr>\n",
       "    <tr>\n",
       "      <th>14</th>\n",
       "      <td>2017 3</td>\n",
       "      <td>12</td>\n",
       "    </tr>\n",
       "    <tr>\n",
       "      <th>15</th>\n",
       "      <td>2017 4</td>\n",
       "      <td>6</td>\n",
       "    </tr>\n",
       "    <tr>\n",
       "      <th>16</th>\n",
       "      <td>2017 5</td>\n",
       "      <td>14</td>\n",
       "    </tr>\n",
       "    <tr>\n",
       "      <th>17</th>\n",
       "      <td>2017 6</td>\n",
       "      <td>10</td>\n",
       "    </tr>\n",
       "    <tr>\n",
       "      <th>18</th>\n",
       "      <td>2017 7</td>\n",
       "      <td>10</td>\n",
       "    </tr>\n",
       "    <tr>\n",
       "      <th>19</th>\n",
       "      <td>2017 8</td>\n",
       "      <td>13</td>\n",
       "    </tr>\n",
       "    <tr>\n",
       "      <th>20</th>\n",
       "      <td>2017 9</td>\n",
       "      <td>10</td>\n",
       "    </tr>\n",
       "    <tr>\n",
       "      <th>21</th>\n",
       "      <td>2017 10</td>\n",
       "      <td>10</td>\n",
       "    </tr>\n",
       "    <tr>\n",
       "      <th>22</th>\n",
       "      <td>2017 11</td>\n",
       "      <td>9</td>\n",
       "    </tr>\n",
       "    <tr>\n",
       "      <th>23</th>\n",
       "      <td>2017 12</td>\n",
       "      <td>14</td>\n",
       "    </tr>\n",
       "    <tr>\n",
       "      <th>24</th>\n",
       "      <td>2018 1</td>\n",
       "      <td>10</td>\n",
       "    </tr>\n",
       "    <tr>\n",
       "      <th>25</th>\n",
       "      <td>2018 2</td>\n",
       "      <td>8</td>\n",
       "    </tr>\n",
       "    <tr>\n",
       "      <th>26</th>\n",
       "      <td>2018 3</td>\n",
       "      <td>12</td>\n",
       "    </tr>\n",
       "    <tr>\n",
       "      <th>27</th>\n",
       "      <td>2018 4</td>\n",
       "      <td>52</td>\n",
       "    </tr>\n",
       "    <tr>\n",
       "      <th>28</th>\n",
       "      <td>2018 7</td>\n",
       "      <td>2</td>\n",
       "    </tr>\n",
       "    <tr>\n",
       "      <th>29</th>\n",
       "      <td>2018 10</td>\n",
       "      <td>1</td>\n",
       "    </tr>\n",
       "  </tbody>\n",
       "</table>\n",
       "</div>"
      ],
      "text/plain": [
       "       data  numeroVendite\n",
       "0    2016 1             14\n",
       "1    2016 2             10\n",
       "2    2016 3             10\n",
       "3    2016 4             12\n",
       "4    2016 5              8\n",
       "5    2016 6              8\n",
       "6    2016 7              4\n",
       "7    2016 8             11\n",
       "8    2016 9             15\n",
       "9   2016 10             17\n",
       "10  2016 11             11\n",
       "11  2016 12             12\n",
       "12   2017 1             13\n",
       "13   2017 2             10\n",
       "14   2017 3             12\n",
       "15   2017 4              6\n",
       "16   2017 5             14\n",
       "17   2017 6             10\n",
       "18   2017 7             10\n",
       "19   2017 8             13\n",
       "20   2017 9             10\n",
       "21  2017 10             10\n",
       "22  2017 11              9\n",
       "23  2017 12             14\n",
       "24   2018 1             10\n",
       "25   2018 2              8\n",
       "26   2018 3             12\n",
       "27   2018 4             52\n",
       "28   2018 7              2\n",
       "29  2018 10              1"
      ]
     },
     "execution_count": 9,
     "metadata": {},
     "output_type": "execute_result"
    }
   ],
   "source": [
    "data8 = pd.read_sql(sql_query8, conn)\n",
    "data8"
   ]
  },
  {
   "cell_type": "code",
   "execution_count": 14,
   "id": "c0ad97d5",
   "metadata": {},
   "outputs": [
    {
     "data": {
      "text/plain": [
       "Text(0, 0.5, 'numeroVendite')"
      ]
     },
     "execution_count": 14,
     "metadata": {},
     "output_type": "execute_result"
    },
    {
     "data": {
      "image/png": "[encoded data removed]",
      "text/plain": [
       "<Figure size 1000x1200 with 1 Axes>"
      ]
     },
     "metadata": {},
     "output_type": "display_data"
    }
   ],
   "source": [
    "x8 = data8.data\n",
    "y8 = data8.numeroVendite\n",
    "fig, ax = plt.subplots(figsize = (10, 12))\n",
    "ax.bar(x8, y8)\n",
    "plt.xticks(rotation=90)\n",
    "ax.set_title('totale vendite per ogni anno e mese')\n",
    "ax.set_xlabel('tempo')\n",
    "ax.set_ylabel('numeroVendite')"
   ]
  },
  {
   "cell_type": "markdown",
   "id": "e9625bc0",
   "metadata": {},
   "source": [
    "esercizio 9: visualizzare il grafico delle vendite per ogni mese dell'anno (accorpare le vendite dei mesi dei vari anni)"
   ]
  },
  {
   "cell_type": "code",
   "execution_count": 12,
   "id": "0cb20759",
   "metadata": {},
   "outputs": [],
   "source": [
    "sql_query9 = f\"\"\"\n",
    "select cast(YEAR(order_date) as VARCHAR) +' '+ cast(MONTH(order_date) as VARCHAR) as data,count(order_id) as numeroVendite \n",
    "from sales.stores\n",
    "inner join sales.orders on orders.store_id = stores.store_id\n",
    "where store_name='Santa Cruz Bikes'\n",
    "GROUP by YEAR(order_date),MONTH(order_date)\n",
    "ORDER by YEAR(order_date),MONTH(order_date)\n",
    "\"\"\""
   ]
  },
  {
   "cell_type": "code",
   "execution_count": 13,
   "id": "958c64f7",
   "metadata": {},
   "outputs": [
    {
     "name": "stderr",
     "output_type": "stream",
     "text": [
      "C:\\Users\\ricca\\AppData\\Local\\Temp\\ipykernel_18276\\781551106.py:1: UserWarning: pandas only supports SQLAlchemy connectable (engine/connection) or database string URI or sqlite3 DBAPI2 connection. Other DBAPI2 objects are not tested. Please consider using SQLAlchemy.\n",
      "  data9 = pd.read_sql(sql_query9, conn)\n"
     ]
    },
    {
     "data": {
      "text/html": [
       "<div>\n",
       "<style scoped>\n",
       "    .dataframe tbody tr th:only-of-type {\n",
       "        vertical-align: middle;\n",
       "    }\n",
       "\n",
       "    .dataframe tbody tr th {\n",
       "        vertical-align: top;\n",
       "    }\n",
       "\n",
       "    .dataframe thead th {\n",
       "        text-align: right;\n",
       "    }\n",
       "</style>\n",
       "<table border=\"1\" class=\"dataframe\">\n",
       "  <thead>\n",
       "    <tr style=\"text-align: right;\">\n",
       "      <th></th>\n",
       "      <th>data</th>\n",
       "      <th>numeroVendite</th>\n",
       "    </tr>\n",
       "  </thead>\n",
       "  <tbody>\n",
       "    <tr>\n",
       "      <th>0</th>\n",
       "      <td>2016 1</td>\n",
       "      <td>14</td>\n",
       "    </tr>\n",
       "    <tr>\n",
       "      <th>1</th>\n",
       "      <td>2016 2</td>\n",
       "      <td>10</td>\n",
       "    </tr>\n",
       "    <tr>\n",
       "      <th>2</th>\n",
       "      <td>2016 3</td>\n",
       "      <td>10</td>\n",
       "    </tr>\n",
       "    <tr>\n",
       "      <th>3</th>\n",
       "      <td>2016 4</td>\n",
       "      <td>12</td>\n",
       "    </tr>\n",
       "    <tr>\n",
       "      <th>4</th>\n",
       "      <td>2016 5</td>\n",
       "      <td>8</td>\n",
       "    </tr>\n",
       "    <tr>\n",
       "      <th>5</th>\n",
       "      <td>2016 6</td>\n",
       "      <td>8</td>\n",
       "    </tr>\n",
       "    <tr>\n",
       "      <th>6</th>\n",
       "      <td>2016 7</td>\n",
       "      <td>4</td>\n",
       "    </tr>\n",
       "    <tr>\n",
       "      <th>7</th>\n",
       "      <td>2016 8</td>\n",
       "      <td>11</td>\n",
       "    </tr>\n",
       "    <tr>\n",
       "      <th>8</th>\n",
       "      <td>2016 9</td>\n",
       "      <td>15</td>\n",
       "    </tr>\n",
       "    <tr>\n",
       "      <th>9</th>\n",
       "      <td>2016 10</td>\n",
       "      <td>17</td>\n",
       "    </tr>\n",
       "    <tr>\n",
       "      <th>10</th>\n",
       "      <td>2016 11</td>\n",
       "      <td>11</td>\n",
       "    </tr>\n",
       "    <tr>\n",
       "      <th>11</th>\n",
       "      <td>2016 12</td>\n",
       "      <td>12</td>\n",
       "    </tr>\n",
       "    <tr>\n",
       "      <th>12</th>\n",
       "      <td>2017 1</td>\n",
       "      <td>13</td>\n",
       "    </tr>\n",
       "    <tr>\n",
       "      <th>13</th>\n",
       "      <td>2017 2</td>\n",
       "      <td>10</td>\n",
       "    </tr>\n",
       "    <tr>\n",
       "      <th>14</th>\n",
       "      <td>2017 3</td>\n",
       "      <td>12</td>\n",
       "    </tr>\n",
       "    <tr>\n",
       "      <th>15</th>\n",
       "      <td>2017 4</td>\n",
       "      <td>6</td>\n",
       "    </tr>\n",
       "    <tr>\n",
       "      <th>16</th>\n",
       "      <td>2017 5</td>\n",
       "      <td>14</td>\n",
       "    </tr>\n",
       "    <tr>\n",
       "      <th>17</th>\n",
       "      <td>2017 6</td>\n",
       "      <td>10</td>\n",
       "    </tr>\n",
       "    <tr>\n",
       "      <th>18</th>\n",
       "      <td>2017 7</td>\n",
       "      <td>10</td>\n",
       "    </tr>\n",
       "    <tr>\n",
       "      <th>19</th>\n",
       "      <td>2017 8</td>\n",
       "      <td>13</td>\n",
       "    </tr>\n",
       "    <tr>\n",
       "      <th>20</th>\n",
       "      <td>2017 9</td>\n",
       "      <td>10</td>\n",
       "    </tr>\n",
       "    <tr>\n",
       "      <th>21</th>\n",
       "      <td>2017 10</td>\n",
       "      <td>10</td>\n",
       "    </tr>\n",
       "    <tr>\n",
       "      <th>22</th>\n",
       "      <td>2017 11</td>\n",
       "      <td>9</td>\n",
       "    </tr>\n",
       "    <tr>\n",
       "      <th>23</th>\n",
       "      <td>2017 12</td>\n",
       "      <td>14</td>\n",
       "    </tr>\n",
       "    <tr>\n",
       "      <th>24</th>\n",
       "      <td>2018 1</td>\n",
       "      <td>10</td>\n",
       "    </tr>\n",
       "    <tr>\n",
       "      <th>25</th>\n",
       "      <td>2018 2</td>\n",
       "      <td>8</td>\n",
       "    </tr>\n",
       "    <tr>\n",
       "      <th>26</th>\n",
       "      <td>2018 3</td>\n",
       "      <td>12</td>\n",
       "    </tr>\n",
       "    <tr>\n",
       "      <th>27</th>\n",
       "      <td>2018 4</td>\n",
       "      <td>52</td>\n",
       "    </tr>\n",
       "    <tr>\n",
       "      <th>28</th>\n",
       "      <td>2018 7</td>\n",
       "      <td>2</td>\n",
       "    </tr>\n",
       "    <tr>\n",
       "      <th>29</th>\n",
       "      <td>2018 10</td>\n",
       "      <td>1</td>\n",
       "    </tr>\n",
       "  </tbody>\n",
       "</table>\n",
       "</div>"
      ],
      "text/plain": [
       "       data  numeroVendite\n",
       "0    2016 1             14\n",
       "1    2016 2             10\n",
       "2    2016 3             10\n",
       "3    2016 4             12\n",
       "4    2016 5              8\n",
       "5    2016 6              8\n",
       "6    2016 7              4\n",
       "7    2016 8             11\n",
       "8    2016 9             15\n",
       "9   2016 10             17\n",
       "10  2016 11             11\n",
       "11  2016 12             12\n",
       "12   2017 1             13\n",
       "13   2017 2             10\n",
       "14   2017 3             12\n",
       "15   2017 4              6\n",
       "16   2017 5             14\n",
       "17   2017 6             10\n",
       "18   2017 7             10\n",
       "19   2017 8             13\n",
       "20   2017 9             10\n",
       "21  2017 10             10\n",
       "22  2017 11              9\n",
       "23  2017 12             14\n",
       "24   2018 1             10\n",
       "25   2018 2              8\n",
       "26   2018 3             12\n",
       "27   2018 4             52\n",
       "28   2018 7              2\n",
       "29  2018 10              1"
      ]
     },
     "execution_count": 13,
     "metadata": {},
     "output_type": "execute_result"
    }
   ],
   "source": [
    "data9 = pd.read_sql(sql_query9, conn)\n",
    "data9"
   ]
  },
  {
   "cell_type": "code",
   "execution_count": 15,
   "id": "bc4405cc",
   "metadata": {},
   "outputs": [
    {
     "data": {
      "text/plain": [
       "Text(0, 0.5, 'numeroVendite')"
      ]
     },
     "execution_count": 15,
     "metadata": {},
     "output_type": "execute_result"
    },
    {
     "data": {
      "image/png": "[encoded data removed]",
      "text/plain": [
       "<Figure size 1000x1200 with 1 Axes>"
      ]
     },
     "metadata": {},
     "output_type": "display_data"
    }
   ],
   "source": [
    "x9 = data9.data\n",
    "y9 = data9.numeroVendite\n",
    "fig, ax = plt.subplots(figsize = (10, 12))\n",
    "ax.bar(x9, y9)\n",
    "plt.xticks(rotation=90)\n",
    "ax.set_title('totale vendite per ogni anno e mese')\n",
    "ax.set_xlabel('tempo')\n",
    "ax.set_ylabel('numeroVendite')"
   ]
  },
  {
   "cell_type": "markdown",
   "id": "e900734e",
   "metadata": {},
   "source": [
    "esercizio 10: visualizzare un grafico treemap del numero di ordini per ogni anno"
   ]
  },
  {
   "cell_type": "code",
   "execution_count": 2,
   "id": "679ff383",
   "metadata": {},
   "outputs": [],
   "source": [
    "sql_query10 = \"\"\"\n",
    "select YEAR(sales.orders.order_date) as Anno, count(sales.orders.order_id) as NumeroOrdini\n",
    "from sales.orders\n",
    "group by YEAR(sales.orders.order_date)\n",
    "order by NumeroOrdini desc\n",
    "\"\"\""
   ]
  },
  {
   "cell_type": "code",
   "execution_count": 7,
   "id": "6301220f",
   "metadata": {},
   "outputs": [
    {
     "name": "stderr",
     "output_type": "stream",
     "text": [
      "C:\\Users\\ricca\\AppData\\Local\\Temp\\ipykernel_17944\\3005057354.py:1: UserWarning: pandas only supports SQLAlchemy connectable (engine/connection) or database string URI or sqlite3 DBAPI2 connection. Other DBAPI2 objects are not tested. Please consider using SQLAlchemy.\n",
      "  data10 = pd.read_sql(sql_query10, conn)\n"
     ]
    },
    {
     "data": {
      "text/html": [
       "<div>\n",
       "<style scoped>\n",
       "    .dataframe tbody tr th:only-of-type {\n",
       "        vertical-align: middle;\n",
       "    }\n",
       "\n",
       "    .dataframe tbody tr th {\n",
       "        vertical-align: top;\n",
       "    }\n",
       "\n",
       "    .dataframe thead th {\n",
       "        text-align: right;\n",
       "    }\n",
       "</style>\n",
       "<table border=\"1\" class=\"dataframe\">\n",
       "  <thead>\n",
       "    <tr style=\"text-align: right;\">\n",
       "      <th></th>\n",
       "      <th>Anno</th>\n",
       "      <th>NumeroOrdini</th>\n",
       "    </tr>\n",
       "  </thead>\n",
       "  <tbody>\n",
       "    <tr>\n",
       "      <th>0</th>\n",
       "      <td>2017</td>\n",
       "      <td>688</td>\n",
       "    </tr>\n",
       "    <tr>\n",
       "      <th>1</th>\n",
       "      <td>2016</td>\n",
       "      <td>635</td>\n",
       "    </tr>\n",
       "    <tr>\n",
       "      <th>2</th>\n",
       "      <td>2018</td>\n",
       "      <td>292</td>\n",
       "    </tr>\n",
       "  </tbody>\n",
       "</table>\n",
       "</div>"
      ],
      "text/plain": [
       "   Anno  NumeroOrdini\n",
       "0  2017           688\n",
       "1  2016           635\n",
       "2  2018           292"
      ]
     },
     "execution_count": 7,
     "metadata": {},
     "output_type": "execute_result"
    }
   ],
   "source": [
    "data10 = pd.read_sql(sql_query10, conn)\n",
    "data10"
   ]
  },
  {
   "cell_type": "code",
   "execution_count": 8,
   "id": "b3ea71e1",
   "metadata": {},
   "outputs": [
    {
     "name": "stdout",
     "output_type": "stream",
     "text": [
      "Collecting squarify\n",
      "  Downloading squarify-0.4.3-py3-none-any.whl (4.3 kB)\n",
      "Installing collected packages: squarify\n",
      "Successfully installed squarify-0.4.3\n"
     ]
    }
   ],
   "source": [
    "!pip install squarify"
   ]
  },
  {
   "cell_type": "code",
   "execution_count": 9,
   "id": "96b605d0",
   "metadata": {},
   "outputs": [
    {
     "data": {
      "image/png": "[encoded data removed]",
      "text/plain": [
       "<Figure size 640x480 with 1 Axes>"
      ]
     },
     "metadata": {},
     "output_type": "display_data"
    }
   ],
   "source": [
    "import squarify\n",
    "stringhe = data10.Anno\n",
    "dati = data10.NumeroOrdini\n",
    "squarify.plot(sizes=dati, label=stringhe, alpha=.8)\n",
    "plt.axis('off')\n",
    "plt.show()"
   ]
  },
  {
   "cell_type": "markdown",
   "id": "4fb40a09",
   "metadata": {},
   "source": [
    "esercizio 11: grafico a barre verticali colorato del numero massimo di ordini per ogni cliente"
   ]
  },
  {
   "cell_type": "code",
   "execution_count": 10,
   "id": "5fd6fa27",
   "metadata": {},
   "outputs": [],
   "source": [
    "sql_query11 = \"\"\"\n",
    "select sales.customers.last_name, count(sales.orders.order_id) as NumeroOrdini\n",
    "from sales.orders\n",
    "inner join sales.customers on sales.customers.customer_id = sales.orders.customer_id\n",
    "group by sales.customers.last_name\n",
    "having count(sales.orders.order_id) = (Select MAX(numero) from (\n",
    "    select sales.customers.last_name, count(sales.orders.order_id) as numero\n",
    "    from sales.orders\n",
    "    inner join sales.customers on sales.customers.customer_id = sales.orders.customer_id\n",
    "    group by sales.customers.last_name\n",
    ") as tabella)\n",
    "\"\"\""
   ]
  },
  {
   "cell_type": "code",
   "execution_count": 11,
   "id": "e53fb1f3",
   "metadata": {},
   "outputs": [
    {
     "name": "stderr",
     "output_type": "stream",
     "text": [
      "C:\\Users\\ricca\\AppData\\Local\\Temp\\ipykernel_17944\\3317073799.py:1: UserWarning: pandas only supports SQLAlchemy connectable (engine/connection) or database string URI or sqlite3 DBAPI2 connection. Other DBAPI2 objects are not tested. Please consider using SQLAlchemy.\n",
      "  data11 = pd.read_sql(sql_query11, conn)\n"
     ]
    },
    {
     "data": {
      "text/html": [
       "<div>\n",
       "<style scoped>\n",
       "    .dataframe tbody tr th:only-of-type {\n",
       "        vertical-align: middle;\n",
       "    }\n",
       "\n",
       "    .dataframe tbody tr th {\n",
       "        vertical-align: top;\n",
       "    }\n",
       "\n",
       "    .dataframe thead th {\n",
       "        text-align: right;\n",
       "    }\n",
       "</style>\n",
       "<table border=\"1\" class=\"dataframe\">\n",
       "  <thead>\n",
       "    <tr style=\"text-align: right;\">\n",
       "      <th></th>\n",
       "      <th>last_name</th>\n",
       "      <th>NumeroOrdini</th>\n",
       "    </tr>\n",
       "  </thead>\n",
       "  <tbody>\n",
       "    <tr>\n",
       "      <th>0</th>\n",
       "      <td>Hardin</td>\n",
       "      <td>8</td>\n",
       "    </tr>\n",
       "    <tr>\n",
       "      <th>1</th>\n",
       "      <td>Hays</td>\n",
       "      <td>8</td>\n",
       "    </tr>\n",
       "  </tbody>\n",
       "</table>\n",
       "</div>"
      ],
      "text/plain": [
       "  last_name  NumeroOrdini\n",
       "0    Hardin             8\n",
       "1      Hays             8"
      ]
     },
     "execution_count": 11,
     "metadata": {},
     "output_type": "execute_result"
    }
   ],
   "source": [
    "data11 = pd.read_sql(sql_query11, conn)\n",
    "data11"
   ]
  },
  {
   "cell_type": "code",
   "execution_count": 13,
   "id": "f563a992",
   "metadata": {},
   "outputs": [
    {
     "data": {
      "text/plain": [
       "Text(0, 0.5, 'NumeroOrdini')"
      ]
     },
     "execution_count": 13,
     "metadata": {},
     "output_type": "execute_result"
    },
    {
     "data": {
      "image/png": "[encoded data removed]",
      "text/plain": [
       "<Figure size 1000x1200 with 1 Axes>"
      ]
     },
     "metadata": {},
     "output_type": "display_data"
    }
   ],
   "source": [
    "x11 = data11.last_name\n",
    "y11 = data11.NumeroOrdini\n",
    "fig, ax = plt.subplots(figsize = (10, 12))\n",
    "ax.bar(x11, y11, color = ['red', 'blue'])\n",
    "ax.set_title('numero massimo di ordini dei clienti')\n",
    "ax.set_xlabel('clienti')\n",
    "ax.set_ylabel('NumeroOrdini')"
   ]
  },
  {
   "cell_type": "markdown",
   "id": "4467bd8a",
   "metadata": {},
   "source": [
    "esercizio 12: i clienti che hanno acquistato un prodotto inserito dall'utente"
   ]
  },
  {
   "cell_type": "code",
   "execution_count": 10,
   "id": "15eb9548",
   "metadata": {},
   "outputs": [
    {
     "name": "stdout",
     "output_type": "stream",
     "text": [
      "inserire nome prodotto: Surly Ice Cream Truck Frameset - 2016\n"
     ]
    }
   ],
   "source": [
    "prodotto = input('inserire nome prodotto: ')"
   ]
  },
  {
   "cell_type": "code",
   "execution_count": 11,
   "id": "1799e61c",
   "metadata": {},
   "outputs": [],
   "source": [
    "sql_query12 = f\"\"\"\n",
    "select sales.customers.first_name, sales.customers.last_name\n",
    "from sales.customers\n",
    "inner join sales.orders on sales.orders.customer_id = sales.customers.customer_id\n",
    "inner join sales.order_items on sales.order_items.order_id = sales.orders.order_id\n",
    "where sales.order_items.product_id in (select production.products.product_id from production.products where product_name = '{prodotto}')\n",
    "\"\"\""
   ]
  },
  {
   "cell_type": "code",
   "execution_count": 12,
   "id": "2257fa00",
   "metadata": {},
   "outputs": [
    {
     "name": "stderr",
     "output_type": "stream",
     "text": [
      "C:\\Users\\ricca\\AppData\\Local\\Temp\\ipykernel_5240\\1828556158.py:1: UserWarning: pandas only supports SQLAlchemy connectable (engine/connection) or database string URI or sqlite3 DBAPI2 connection. Other DBAPI2 objects are not tested. Please consider using SQLAlchemy.\n",
      "  data12 = pd.read_sql(sql_query12, conn)\n"
     ]
    },
    {
     "data": {
      "text/html": [
       "<div>\n",
       "<style scoped>\n",
       "    .dataframe tbody tr th:only-of-type {\n",
       "        vertical-align: middle;\n",
       "    }\n",
       "\n",
       "    .dataframe tbody tr th {\n",
       "        vertical-align: top;\n",
       "    }\n",
       "\n",
       "    .dataframe thead th {\n",
       "        text-align: right;\n",
       "    }\n",
       "</style>\n",
       "<table border=\"1\" class=\"dataframe\">\n",
       "  <thead>\n",
       "    <tr style=\"text-align: right;\">\n",
       "      <th></th>\n",
       "      <th>first_name</th>\n",
       "      <th>last_name</th>\n",
       "    </tr>\n",
       "  </thead>\n",
       "  <tbody>\n",
       "    <tr>\n",
       "      <th>0</th>\n",
       "      <td>Maribel</td>\n",
       "      <td>William</td>\n",
       "    </tr>\n",
       "    <tr>\n",
       "      <th>1</th>\n",
       "      <td>Eleni</td>\n",
       "      <td>Gordon</td>\n",
       "    </tr>\n",
       "    <tr>\n",
       "      <th>2</th>\n",
       "      <td>Laureen</td>\n",
       "      <td>Barry</td>\n",
       "    </tr>\n",
       "    <tr>\n",
       "      <th>3</th>\n",
       "      <td>Joshua</td>\n",
       "      <td>Berg</td>\n",
       "    </tr>\n",
       "    <tr>\n",
       "      <th>4</th>\n",
       "      <td>Mariela</td>\n",
       "      <td>Huffman</td>\n",
       "    </tr>\n",
       "    <tr>\n",
       "      <th>...</th>\n",
       "      <td>...</td>\n",
       "      <td>...</td>\n",
       "    </tr>\n",
       "    <tr>\n",
       "      <th>105</th>\n",
       "      <td>Stacie</td>\n",
       "      <td>Sims</td>\n",
       "    </tr>\n",
       "    <tr>\n",
       "      <th>106</th>\n",
       "      <td>Marcene</td>\n",
       "      <td>Curtis</td>\n",
       "    </tr>\n",
       "    <tr>\n",
       "      <th>107</th>\n",
       "      <td>Rubin</td>\n",
       "      <td>Decker</td>\n",
       "    </tr>\n",
       "    <tr>\n",
       "      <th>108</th>\n",
       "      <td>Orval</td>\n",
       "      <td>Hunter</td>\n",
       "    </tr>\n",
       "    <tr>\n",
       "      <th>109</th>\n",
       "      <td>Merlene</td>\n",
       "      <td>Vinson</td>\n",
       "    </tr>\n",
       "  </tbody>\n",
       "</table>\n",
       "<p>110 rows × 2 columns</p>\n",
       "</div>"
      ],
      "text/plain": [
       "    first_name last_name\n",
       "0      Maribel   William\n",
       "1        Eleni    Gordon\n",
       "2      Laureen     Barry\n",
       "3       Joshua      Berg\n",
       "4      Mariela   Huffman\n",
       "..         ...       ...\n",
       "105     Stacie      Sims\n",
       "106    Marcene    Curtis\n",
       "107      Rubin    Decker\n",
       "108      Orval    Hunter\n",
       "109    Merlene    Vinson\n",
       "\n",
       "[110 rows x 2 columns]"
      ]
     },
     "execution_count": 12,
     "metadata": {},
     "output_type": "execute_result"
    }
   ],
   "source": [
    "data12 = pd.read_sql(sql_query12, conn)\n",
    "data12"
   ]
  },
  {
   "cell_type": "markdown",
   "id": "fc4171a7",
   "metadata": {},
   "source": [
    "esercizio 13: i dipendenti che hanno un ammontare totale maggiore di 500.000 dollari. Monstrarli su un grafice a barre verticali. Ordinarli in ordine crescente"
   ]
  },
  {
   "cell_type": "code",
   "execution_count": 4,
   "id": "be081e2e",
   "metadata": {},
   "outputs": [],
   "source": [
    "sql_query13 = \"\"\"\n",
    "select sales.staffs.staff_id, sales.staffs.last_name, sum(sales.order_items.list_price * (1 - sales.order_items.discount) * sales.order_items.quantity) as ammontareTotale\n",
    "from sales.staffs\n",
    "inner join sales.orders on sales.orders.staff_id = sales.staffs.staff_id\n",
    "inner join sales.order_items on sales.order_items.order_id = sales.orders.order_id\n",
    "group by sales.staffs.staff_id, sales.staffs.last_name\n",
    "having sum(sales.order_items.list_price * (1 - sales.order_items.discount) * sales.order_items.quantity) > 500000\n",
    "order by sum(sales.order_items.list_price * (1 - sales.order_items.discount) * sales.order_items.quantity)\n",
    "\"\"\""
   ]
  },
  {
   "cell_type": "code",
   "execution_count": 5,
   "id": "70c3e175",
   "metadata": {},
   "outputs": [
    {
     "name": "stderr",
     "output_type": "stream",
     "text": [
      "C:\\Users\\ricca\\AppData\\Local\\Temp\\ipykernel_9300\\291060633.py:1: UserWarning: pandas only supports SQLAlchemy connectable (engine/connection) or database string URI or sqlite3 DBAPI2 connection. Other DBAPI2 objects are not tested. Please consider using SQLAlchemy.\n",
      "  data13 = pd.read_sql(sql_query13, conn)\n"
     ]
    },
    {
     "data": {
      "text/html": [
       "<div>\n",
       "<style scoped>\n",
       "    .dataframe tbody tr th:only-of-type {\n",
       "        vertical-align: middle;\n",
       "    }\n",
       "\n",
       "    .dataframe tbody tr th {\n",
       "        vertical-align: top;\n",
       "    }\n",
       "\n",
       "    .dataframe thead th {\n",
       "        text-align: right;\n",
       "    }\n",
       "</style>\n",
       "<table border=\"1\" class=\"dataframe\">\n",
       "  <thead>\n",
       "    <tr style=\"text-align: right;\">\n",
       "      <th></th>\n",
       "      <th>staff_id</th>\n",
       "      <th>last_name</th>\n",
       "      <th>ammontareTotale</th>\n",
       "    </tr>\n",
       "  </thead>\n",
       "  <tbody>\n",
       "    <tr>\n",
       "      <th>0</th>\n",
       "      <td>2</td>\n",
       "      <td>Copeland</td>\n",
       "      <td>7.525357e+05</td>\n",
       "    </tr>\n",
       "    <tr>\n",
       "      <th>1</th>\n",
       "      <td>3</td>\n",
       "      <td>Serrano</td>\n",
       "      <td>8.532874e+05</td>\n",
       "    </tr>\n",
       "    <tr>\n",
       "      <th>2</th>\n",
       "      <td>7</td>\n",
       "      <td>Daniel</td>\n",
       "      <td>2.591631e+06</td>\n",
       "    </tr>\n",
       "    <tr>\n",
       "      <th>3</th>\n",
       "      <td>6</td>\n",
       "      <td>Boyer</td>\n",
       "      <td>2.624121e+06</td>\n",
       "    </tr>\n",
       "  </tbody>\n",
       "</table>\n",
       "</div>"
      ],
      "text/plain": [
       "   staff_id last_name  ammontareTotale\n",
       "0         2  Copeland     7.525357e+05\n",
       "1         3   Serrano     8.532874e+05\n",
       "2         7    Daniel     2.591631e+06\n",
       "3         6     Boyer     2.624121e+06"
      ]
     },
     "execution_count": 5,
     "metadata": {},
     "output_type": "execute_result"
    }
   ],
   "source": [
    "data13 = pd.read_sql(sql_query13, conn)\n",
    "data13"
   ]
  },
  {
   "cell_type": "code",
   "execution_count": 6,
   "id": "80a01cc3",
   "metadata": {},
   "outputs": [
    {
     "data": {
      "text/plain": [
       "Text(0, 0.5, 'ammontare totale')"
      ]
     },
     "execution_count": 6,
     "metadata": {},
     "output_type": "execute_result"
    },
    {
     "data": {
      "image/png": "[encoded data removed]",
      "text/plain": [
       "<Figure size 1000x1200 with 1 Axes>"
      ]
     },
     "metadata": {},
     "output_type": "display_data"
    }
   ],
   "source": [
    "x13 = data13.last_name\n",
    "y13 = data13.ammontareTotale\n",
    "fig, ax = plt.subplots(figsize = (10, 12))\n",
    "ax.bar(x13, y13, color = ['red', 'blue'])\n",
    "ax.set_title('ammontare totale maggiore di 500.000 dei dipendenti')\n",
    "ax.set_xlabel('dipendenti')\n",
    "ax.set_ylabel('ammontare totale')"
   ]
  },
  {
   "cell_type": "markdown",
   "id": "6dc336ad",
   "metadata": {},
   "source": [
    "esercizio 14: il dipendente con l'ammontare totale massimo"
   ]
  },
  {
   "cell_type": "code",
   "execution_count": 7,
   "id": "8121d5a6",
   "metadata": {},
   "outputs": [],
   "source": [
    "sql_query14 = \"\"\"\n",
    "select sales.staffs.staff_id, sales.staffs.last_name, sum(sales.order_items.list_price * (1 - sales.order_items.discount) * sales.order_items.quantity) as ammontareTotale\n",
    "from sales.staffs\n",
    "inner join sales.orders on sales.orders.staff_id = sales.staffs.staff_id\n",
    "inner join sales.order_items on sales.order_items.order_id = sales.orders.order_id\n",
    "group by sales.staffs.staff_id, sales.staffs.last_name\n",
    "having sum(sales.order_items.list_price * (1 - sales.order_items.discount) * sales.order_items.quantity) = (SELECT MAX(numero) from (\n",
    "   select sum(sales.order_items.list_price * (1 - sales.order_items.discount) * sales.order_items.quantity) as numero\n",
    "    from sales.staffs\n",
    "    inner join sales.orders on sales.orders.staff_id = sales.staffs.staff_id\n",
    "    inner join sales.order_items on sales.order_items.order_id = sales.orders.order_id\n",
    "    group by sales.staffs.staff_id, sales.staffs.last_name) as tabella) \n",
    "\n",
    "\"\"\""
   ]
  },
  {
   "cell_type": "code",
   "execution_count": 8,
   "id": "129218b9",
   "metadata": {},
   "outputs": [
    {
     "name": "stderr",
     "output_type": "stream",
     "text": [
      "C:\\Users\\ricca\\AppData\\Local\\Temp\\ipykernel_9300\\3210456028.py:1: UserWarning: pandas only supports SQLAlchemy connectable (engine/connection) or database string URI or sqlite3 DBAPI2 connection. Other DBAPI2 objects are not tested. Please consider using SQLAlchemy.\n",
      "  data14 = pd.read_sql(sql_query14, conn)\n"
     ]
    },
    {
     "data": {
      "text/html": [
       "<div>\n",
       "<style scoped>\n",
       "    .dataframe tbody tr th:only-of-type {\n",
       "        vertical-align: middle;\n",
       "    }\n",
       "\n",
       "    .dataframe tbody tr th {\n",
       "        vertical-align: top;\n",
       "    }\n",
       "\n",
       "    .dataframe thead th {\n",
       "        text-align: right;\n",
       "    }\n",
       "</style>\n",
       "<table border=\"1\" class=\"dataframe\">\n",
       "  <thead>\n",
       "    <tr style=\"text-align: right;\">\n",
       "      <th></th>\n",
       "      <th>staff_id</th>\n",
       "      <th>last_name</th>\n",
       "      <th>ammontareTotale</th>\n",
       "    </tr>\n",
       "  </thead>\n",
       "  <tbody>\n",
       "    <tr>\n",
       "      <th>0</th>\n",
       "      <td>6</td>\n",
       "      <td>Boyer</td>\n",
       "      <td>2624120.653</td>\n",
       "    </tr>\n",
       "  </tbody>\n",
       "</table>\n",
       "</div>"
      ],
      "text/plain": [
       "   staff_id last_name  ammontareTotale\n",
       "0         6     Boyer      2624120.653"
      ]
     },
     "execution_count": 8,
     "metadata": {},
     "output_type": "execute_result"
    }
   ],
   "source": [
    "data14 = pd.read_sql(sql_query14, conn)\n",
    "data14"
   ]
  },
  {
   "cell_type": "markdown",
   "id": "ee8a328a",
   "metadata": {},
   "source": [
    "esercizio 15: l'ammontare totale di ogni stato americano. mostrarli con un grafico a torta"
   ]
  },
  {
   "cell_type": "code",
   "execution_count": 9,
   "id": "6d73af6b",
   "metadata": {},
   "outputs": [],
   "source": [
    "sql_query15 = \"\"\"\n",
    "select sales.customers.state, sum(sales.order_items.list_price * (1 - sales.order_items.discount) * sales.order_items.quantity) as ammontareTotale\n",
    "from sales.customers\n",
    "inner join sales.orders on sales.orders.customer_id = sales.customers.customer_id\n",
    "inner join sales.order_items on sales.order_items.order_id = sales.orders.order_id\n",
    "group by sales.customers.state\n",
    "order by ammontareTotale desc\n",
    "\"\"\""
   ]
  },
  {
   "cell_type": "code",
   "execution_count": 10,
   "id": "406d446d",
   "metadata": {},
   "outputs": [
    {
     "name": "stderr",
     "output_type": "stream",
     "text": [
      "C:\\Users\\ricca\\AppData\\Local\\Temp\\ipykernel_9300\\1208003574.py:1: UserWarning: pandas only supports SQLAlchemy connectable (engine/connection) or database string URI or sqlite3 DBAPI2 connection. Other DBAPI2 objects are not tested. Please consider using SQLAlchemy.\n",
      "  data15 = pd.read_sql(sql_query15, conn)\n"
     ]
    },
    {
     "data": {
      "text/html": [
       "<div>\n",
       "<style scoped>\n",
       "    .dataframe tbody tr th:only-of-type {\n",
       "        vertical-align: middle;\n",
       "    }\n",
       "\n",
       "    .dataframe tbody tr th {\n",
       "        vertical-align: top;\n",
       "    }\n",
       "\n",
       "    .dataframe thead th {\n",
       "        text-align: right;\n",
       "    }\n",
       "</style>\n",
       "<table border=\"1\" class=\"dataframe\">\n",
       "  <thead>\n",
       "    <tr style=\"text-align: right;\">\n",
       "      <th></th>\n",
       "      <th>state</th>\n",
       "      <th>ammontareTotale</th>\n",
       "    </tr>\n",
       "  </thead>\n",
       "  <tbody>\n",
       "    <tr>\n",
       "      <th>0</th>\n",
       "      <td>NY</td>\n",
       "      <td>5.215751e+06</td>\n",
       "    </tr>\n",
       "    <tr>\n",
       "      <th>1</th>\n",
       "      <td>CA</td>\n",
       "      <td>1.605823e+06</td>\n",
       "    </tr>\n",
       "    <tr>\n",
       "      <th>2</th>\n",
       "      <td>TX</td>\n",
       "      <td>8.675422e+05</td>\n",
       "    </tr>\n",
       "  </tbody>\n",
       "</table>\n",
       "</div>"
      ],
      "text/plain": [
       "  state  ammontareTotale\n",
       "0    NY     5.215751e+06\n",
       "1    CA     1.605823e+06\n",
       "2    TX     8.675422e+05"
      ]
     },
     "execution_count": 10,
     "metadata": {},
     "output_type": "execute_result"
    }
   ],
   "source": [
    "data15 = pd.read_sql(sql_query15, conn)\n",
    "data15"
   ]
  },
  {
   "cell_type": "code",
   "execution_count": 11,
   "id": "31e4d54a",
   "metadata": {},
   "outputs": [
    {
     "data": {
      "image/png": "[encoded data removed]",
      "text/plain": [
       "<Figure size 1600x800 with 1 Axes>"
      ]
     },
     "metadata": {},
     "output_type": "display_data"
    }
   ],
   "source": [
    "x15 = data15.state\n",
    "y15 = data15.ammontareTotale\n",
    "plt.figure(figsize=(16, 8))\n",
    "plt.pie(y15, labels=x15, autopct='%1.1f%%')\n",
    "plt.show()"
   ]
  },
  {
   "cell_type": "code",
   "execution_count": null,
   "id": "7655b40b",
   "metadata": {},
   "outputs": [],
   "source": []
  }
 ],
 "metadata": {
  "kernelspec": {
   "display_name": "Python 3 (ipykernel)",
   "language": "python",
   "name": "python3"
  },
  "language_info": {
   "codemirror_mode": {
    "name": "ipython",
    "version": 3
   },
   "file_extension": ".py",
   "mimetype": "text/x-python",
   "name": "python",
   "nbconvert_exporter": "python",
   "pygments_lexer": "ipython3",
   "version": "3.11.5"
  }
 },
 "nbformat": 4,
 "nbformat_minor": 5
}
