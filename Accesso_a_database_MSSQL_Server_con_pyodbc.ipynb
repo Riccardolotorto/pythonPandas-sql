{
 "cells": [
  {
   "cell_type": "code",
   "execution_count": 2,
   "id": "67d2a1cd",
   "metadata": {
    "id": "67d2a1cd",
    "outputId": "2ed6c4c3-5e57-49d9-fe1a-c13aaa5fbdf5"
   },
   "outputs": [
    {
     "name": "stdout",
     "output_type": "stream",
     "text": [
      "Requirement already satisfied: pyodbc in c:\\programdata\\anaconda3\\lib\\site-packages (4.0.0-unsupported)\n"
     ]
    }
   ],
   "source": [
    "!pip install pyodbc \n",
    "#libreria per collegarsi al database  "
   ]
  },
  {
   "cell_type": "code",
   "execution_count": 3,
   "id": "96ec089e",
   "metadata": {
    "id": "96ec089e"
   },
   "outputs": [],
   "source": [
    "import pyodbc\n",
    "#SERVER = '5.172.64.20\\sqlexpress' indirizzo per collegarsi da casa\n",
    "SERVER = '192.168.40.16\\sqlexpress'\n",
    "DATABASE = 'zhao.filippo'\n",
    "USERNAME = 'zhao.filippo'\n",
    "PASSWORD = 'xxx123##'"
   ]
  },
  {
   "cell_type": "code",
   "execution_count": 4,
   "id": "a1d66b8b",
   "metadata": {
    "id": "a1d66b8b"
   },
   "outputs": [],
   "source": [
    "connectionString = f'DRIVER={{SQL Server}};SERVER={SERVER};DATABASE={DATABASE};UID={USERNAME};PWD={PASSWORD}' #mettere in un unico posto le informazioni necessarie per connettersi al database"
   ]
  },
  {
   "cell_type": "code",
   "execution_count": 5,
   "id": "0bc411f8",
   "metadata": {
    "id": "0bc411f8"
   },
   "outputs": [],
   "source": [
    "conn = pyodbc.connect(connectionString) #si connette al database"
   ]
  },
  {
   "cell_type": "code",
   "execution_count": 6,
   "id": "bde4f188",
   "metadata": {},
   "outputs": [
    {
     "data": {
      "text/plain": [
       "<pyodbc.Connection at 0x1c767256ed0>"
      ]
     },
     "execution_count": 6,
     "metadata": {},
     "output_type": "execute_result"
    }
   ],
   "source": [
    "conn"
   ]
  },
  {
   "cell_type": "code",
   "execution_count": 7,
   "id": "85630b5e",
   "metadata": {
    "id": "85630b5e"
   },
   "outputs": [],
   "source": [
    "sql_query = \"\"\"\n",
    "SELECT * FROM SALES.STAFFS\n",
    "\"\"\""
   ]
  },
  {
   "cell_type": "code",
   "execution_count": 8,
   "id": "253d1318",
   "metadata": {
    "id": "253d1318",
    "outputId": "14394acc-72f8-416b-b2b1-0aac8040e672"
   },
   "outputs": [
    {
     "name": "stdout",
     "output_type": "stream",
     "text": [
      "1\tJackson\t\tFabiola\n",
      "2\tCopeland\t\tMireya\n",
      "3\tSerrano\t\tGenna\n",
      "4\tWiggins\t\tVirgie\n",
      "5\tDavid\t\tJannette\n",
      "6\tBoyer\t\tMarcelene\n",
      "7\tDaniel\t\tVenita\n",
      "8\tVargas\t\tKali\n",
      "9\tTerrell\t\tLayla\n",
      "10\tHouston\t\tBernardine\n"
     ]
    }
   ],
   "source": [
    "cursor = conn.cursor()  #zona di memoria per memorizzare informazione dal database\n",
    "cursor.execute(sql_query)  #esegue la query\n",
    "\n",
    "records = cursor.fetchall()  #preleva i record del cursore\n",
    "for r in records:\n",
    "    print(f\"{r.staff_id}\\t{r.last_name}\\t\\t{r.first_name}\")  #colonne della tabella staffs"
   ]
  },
  {
   "cell_type": "code",
   "execution_count": 9,
   "id": "28d01613",
   "metadata": {
    "id": "28d01613",
    "outputId": "4f64414e-f3d5-45c0-badf-db3cd7938b4f"
   },
   "outputs": [
    {
     "data": {
      "text/html": [
       "<div>\n",
       "<style scoped>\n",
       "    .dataframe tbody tr th:only-of-type {\n",
       "        vertical-align: middle;\n",
       "    }\n",
       "\n",
       "    .dataframe tbody tr th {\n",
       "        vertical-align: top;\n",
       "    }\n",
       "\n",
       "    .dataframe thead th {\n",
       "        text-align: right;\n",
       "    }\n",
       "</style>\n",
       "<table border=\"1\" class=\"dataframe\">\n",
       "  <thead>\n",
       "    <tr style=\"text-align: right;\">\n",
       "      <th></th>\n",
       "      <th>staff_id</th>\n",
       "      <th>first_name</th>\n",
       "      <th>last_name</th>\n",
       "      <th>email</th>\n",
       "      <th>phone</th>\n",
       "      <th>active</th>\n",
       "      <th>store_id</th>\n",
       "      <th>manager_id</th>\n",
       "    </tr>\n",
       "  </thead>\n",
       "  <tbody>\n",
       "    <tr>\n",
       "      <th>0</th>\n",
       "      <td>1</td>\n",
       "      <td>Fabiola</td>\n",
       "      <td>Jackson</td>\n",
       "      <td>fabiola.jackson@bikes.shop</td>\n",
       "      <td>(831) 555-5554</td>\n",
       "      <td>1</td>\n",
       "      <td>1</td>\n",
       "      <td>NaN</td>\n",
       "    </tr>\n",
       "    <tr>\n",
       "      <th>1</th>\n",
       "      <td>2</td>\n",
       "      <td>Mireya</td>\n",
       "      <td>Copeland</td>\n",
       "      <td>mireya.copeland@bikes.shop</td>\n",
       "      <td>(831) 555-5555</td>\n",
       "      <td>1</td>\n",
       "      <td>1</td>\n",
       "      <td>1.0</td>\n",
       "    </tr>\n",
       "    <tr>\n",
       "      <th>2</th>\n",
       "      <td>3</td>\n",
       "      <td>Genna</td>\n",
       "      <td>Serrano</td>\n",
       "      <td>genna.serrano@bikes.shop</td>\n",
       "      <td>(831) 555-5556</td>\n",
       "      <td>1</td>\n",
       "      <td>1</td>\n",
       "      <td>2.0</td>\n",
       "    </tr>\n",
       "    <tr>\n",
       "      <th>3</th>\n",
       "      <td>4</td>\n",
       "      <td>Virgie</td>\n",
       "      <td>Wiggins</td>\n",
       "      <td>virgie.wiggins@bikes.shop</td>\n",
       "      <td>(831) 555-5557</td>\n",
       "      <td>1</td>\n",
       "      <td>1</td>\n",
       "      <td>2.0</td>\n",
       "    </tr>\n",
       "    <tr>\n",
       "      <th>4</th>\n",
       "      <td>5</td>\n",
       "      <td>Jannette</td>\n",
       "      <td>David</td>\n",
       "      <td>jannette.david@bikes.shop</td>\n",
       "      <td>(516) 379-4444</td>\n",
       "      <td>1</td>\n",
       "      <td>2</td>\n",
       "      <td>1.0</td>\n",
       "    </tr>\n",
       "    <tr>\n",
       "      <th>5</th>\n",
       "      <td>6</td>\n",
       "      <td>Marcelene</td>\n",
       "      <td>Boyer</td>\n",
       "      <td>marcelene.boyer@bikes.shop</td>\n",
       "      <td>(516) 379-4445</td>\n",
       "      <td>1</td>\n",
       "      <td>2</td>\n",
       "      <td>5.0</td>\n",
       "    </tr>\n",
       "    <tr>\n",
       "      <th>6</th>\n",
       "      <td>7</td>\n",
       "      <td>Venita</td>\n",
       "      <td>Daniel</td>\n",
       "      <td>venita.daniel@bikes.shop</td>\n",
       "      <td>(516) 379-4446</td>\n",
       "      <td>1</td>\n",
       "      <td>2</td>\n",
       "      <td>5.0</td>\n",
       "    </tr>\n",
       "    <tr>\n",
       "      <th>7</th>\n",
       "      <td>8</td>\n",
       "      <td>Kali</td>\n",
       "      <td>Vargas</td>\n",
       "      <td>kali.vargas@bikes.shop</td>\n",
       "      <td>(972) 530-5555</td>\n",
       "      <td>1</td>\n",
       "      <td>3</td>\n",
       "      <td>1.0</td>\n",
       "    </tr>\n",
       "    <tr>\n",
       "      <th>8</th>\n",
       "      <td>9</td>\n",
       "      <td>Layla</td>\n",
       "      <td>Terrell</td>\n",
       "      <td>layla.terrell@bikes.shop</td>\n",
       "      <td>(972) 530-5556</td>\n",
       "      <td>1</td>\n",
       "      <td>3</td>\n",
       "      <td>7.0</td>\n",
       "    </tr>\n",
       "    <tr>\n",
       "      <th>9</th>\n",
       "      <td>10</td>\n",
       "      <td>Bernardine</td>\n",
       "      <td>Houston</td>\n",
       "      <td>bernardine.houston@bikes.shop</td>\n",
       "      <td>(972) 530-5557</td>\n",
       "      <td>1</td>\n",
       "      <td>3</td>\n",
       "      <td>7.0</td>\n",
       "    </tr>\n",
       "  </tbody>\n",
       "</table>\n",
       "</div>"
      ],
      "text/plain": [
       "   staff_id  first_name last_name                          email  \\\n",
       "0         1     Fabiola   Jackson     fabiola.jackson@bikes.shop   \n",
       "1         2      Mireya  Copeland     mireya.copeland@bikes.shop   \n",
       "2         3       Genna   Serrano       genna.serrano@bikes.shop   \n",
       "3         4      Virgie   Wiggins      virgie.wiggins@bikes.shop   \n",
       "4         5    Jannette     David      jannette.david@bikes.shop   \n",
       "5         6   Marcelene     Boyer     marcelene.boyer@bikes.shop   \n",
       "6         7      Venita    Daniel       venita.daniel@bikes.shop   \n",
       "7         8        Kali    Vargas         kali.vargas@bikes.shop   \n",
       "8         9       Layla   Terrell       layla.terrell@bikes.shop   \n",
       "9        10  Bernardine   Houston  bernardine.houston@bikes.shop   \n",
       "\n",
       "            phone  active  store_id  manager_id  \n",
       "0  (831) 555-5554       1         1         NaN  \n",
       "1  (831) 555-5555       1         1         1.0  \n",
       "2  (831) 555-5556       1         1         2.0  \n",
       "3  (831) 555-5557       1         1         2.0  \n",
       "4  (516) 379-4444       1         2         1.0  \n",
       "5  (516) 379-4445       1         2         5.0  \n",
       "6  (516) 379-4446       1         2         5.0  \n",
       "7  (972) 530-5555       1         3         1.0  \n",
       "8  (972) 530-5556       1         3         7.0  \n",
       "9  (972) 530-5557       1         3         7.0  "
      ]
     },
     "execution_count": 9,
     "metadata": {},
     "output_type": "execute_result"
    }
   ],
   "source": [
    "import pandas as pd\n",
    "data = pd.read_sql(sql_query, conn)\n",
    "data"
   ]
  },
  {
   "cell_type": "code",
   "execution_count": 10,
   "id": "b8513d85",
   "metadata": {
    "id": "b8513d85"
   },
   "outputs": [],
   "source": [
    "import sqlalchemy\n",
    "from sqlalchemy import create_engine"
   ]
  },
  {
   "cell_type": "code",
   "execution_count": 11,
   "id": "9352d186",
   "metadata": {
    "id": "9352d186"
   },
   "outputs": [],
   "source": [
    "from sqlalchemy.engine import URL\n",
    "connection_url = URL.create(\"mssql+pyodbc\", query={\"odbc_connect\": connectionString})\n",
    "engine = create_engine(connection_url)\n",
    "connAlch = engine.connect()\n",
    "df = pd.read_sql(sql_query, connAlch)"
   ]
  },
  {
   "cell_type": "code",
   "execution_count": 12,
   "id": "09353ccd",
   "metadata": {
    "id": "09353ccd",
    "outputId": "3c2ab852-2e8f-43ab-89b3-f0ef06076118"
   },
   "outputs": [
    {
     "data": {
      "text/html": [
       "<div>\n",
       "<style scoped>\n",
       "    .dataframe tbody tr th:only-of-type {\n",
       "        vertical-align: middle;\n",
       "    }\n",
       "\n",
       "    .dataframe tbody tr th {\n",
       "        vertical-align: top;\n",
       "    }\n",
       "\n",
       "    .dataframe thead th {\n",
       "        text-align: right;\n",
       "    }\n",
       "</style>\n",
       "<table border=\"1\" class=\"dataframe\">\n",
       "  <thead>\n",
       "    <tr style=\"text-align: right;\">\n",
       "      <th></th>\n",
       "      <th>staff_id</th>\n",
       "      <th>first_name</th>\n",
       "      <th>last_name</th>\n",
       "      <th>email</th>\n",
       "      <th>phone</th>\n",
       "      <th>active</th>\n",
       "      <th>store_id</th>\n",
       "      <th>manager_id</th>\n",
       "    </tr>\n",
       "  </thead>\n",
       "  <tbody>\n",
       "    <tr>\n",
       "      <th>0</th>\n",
       "      <td>1</td>\n",
       "      <td>Fabiola</td>\n",
       "      <td>Jackson</td>\n",
       "      <td>fabiola.jackson@bikes.shop</td>\n",
       "      <td>(831) 555-5554</td>\n",
       "      <td>1</td>\n",
       "      <td>1</td>\n",
       "      <td>NaN</td>\n",
       "    </tr>\n",
       "    <tr>\n",
       "      <th>1</th>\n",
       "      <td>2</td>\n",
       "      <td>Mireya</td>\n",
       "      <td>Copeland</td>\n",
       "      <td>mireya.copeland@bikes.shop</td>\n",
       "      <td>(831) 555-5555</td>\n",
       "      <td>1</td>\n",
       "      <td>1</td>\n",
       "      <td>1.0</td>\n",
       "    </tr>\n",
       "    <tr>\n",
       "      <th>2</th>\n",
       "      <td>3</td>\n",
       "      <td>Genna</td>\n",
       "      <td>Serrano</td>\n",
       "      <td>genna.serrano@bikes.shop</td>\n",
       "      <td>(831) 555-5556</td>\n",
       "      <td>1</td>\n",
       "      <td>1</td>\n",
       "      <td>2.0</td>\n",
       "    </tr>\n",
       "    <tr>\n",
       "      <th>3</th>\n",
       "      <td>4</td>\n",
       "      <td>Virgie</td>\n",
       "      <td>Wiggins</td>\n",
       "      <td>virgie.wiggins@bikes.shop</td>\n",
       "      <td>(831) 555-5557</td>\n",
       "      <td>1</td>\n",
       "      <td>1</td>\n",
       "      <td>2.0</td>\n",
       "    </tr>\n",
       "    <tr>\n",
       "      <th>4</th>\n",
       "      <td>5</td>\n",
       "      <td>Jannette</td>\n",
       "      <td>David</td>\n",
       "      <td>jannette.david@bikes.shop</td>\n",
       "      <td>(516) 379-4444</td>\n",
       "      <td>1</td>\n",
       "      <td>2</td>\n",
       "      <td>1.0</td>\n",
       "    </tr>\n",
       "    <tr>\n",
       "      <th>5</th>\n",
       "      <td>6</td>\n",
       "      <td>Marcelene</td>\n",
       "      <td>Boyer</td>\n",
       "      <td>marcelene.boyer@bikes.shop</td>\n",
       "      <td>(516) 379-4445</td>\n",
       "      <td>1</td>\n",
       "      <td>2</td>\n",
       "      <td>5.0</td>\n",
       "    </tr>\n",
       "    <tr>\n",
       "      <th>6</th>\n",
       "      <td>7</td>\n",
       "      <td>Venita</td>\n",
       "      <td>Daniel</td>\n",
       "      <td>venita.daniel@bikes.shop</td>\n",
       "      <td>(516) 379-4446</td>\n",
       "      <td>1</td>\n",
       "      <td>2</td>\n",
       "      <td>5.0</td>\n",
       "    </tr>\n",
       "    <tr>\n",
       "      <th>7</th>\n",
       "      <td>8</td>\n",
       "      <td>Kali</td>\n",
       "      <td>Vargas</td>\n",
       "      <td>kali.vargas@bikes.shop</td>\n",
       "      <td>(972) 530-5555</td>\n",
       "      <td>1</td>\n",
       "      <td>3</td>\n",
       "      <td>1.0</td>\n",
       "    </tr>\n",
       "    <tr>\n",
       "      <th>8</th>\n",
       "      <td>9</td>\n",
       "      <td>Layla</td>\n",
       "      <td>Terrell</td>\n",
       "      <td>layla.terrell@bikes.shop</td>\n",
       "      <td>(972) 530-5556</td>\n",
       "      <td>1</td>\n",
       "      <td>3</td>\n",
       "      <td>7.0</td>\n",
       "    </tr>\n",
       "    <tr>\n",
       "      <th>9</th>\n",
       "      <td>10</td>\n",
       "      <td>Bernardine</td>\n",
       "      <td>Houston</td>\n",
       "      <td>bernardine.houston@bikes.shop</td>\n",
       "      <td>(972) 530-5557</td>\n",
       "      <td>1</td>\n",
       "      <td>3</td>\n",
       "      <td>7.0</td>\n",
       "    </tr>\n",
       "  </tbody>\n",
       "</table>\n",
       "</div>"
      ],
      "text/plain": [
       "   staff_id  first_name last_name                          email  \\\n",
       "0         1     Fabiola   Jackson     fabiola.jackson@bikes.shop   \n",
       "1         2      Mireya  Copeland     mireya.copeland@bikes.shop   \n",
       "2         3       Genna   Serrano       genna.serrano@bikes.shop   \n",
       "3         4      Virgie   Wiggins      virgie.wiggins@bikes.shop   \n",
       "4         5    Jannette     David      jannette.david@bikes.shop   \n",
       "5         6   Marcelene     Boyer     marcelene.boyer@bikes.shop   \n",
       "6         7      Venita    Daniel       venita.daniel@bikes.shop   \n",
       "7         8        Kali    Vargas         kali.vargas@bikes.shop   \n",
       "8         9       Layla   Terrell       layla.terrell@bikes.shop   \n",
       "9        10  Bernardine   Houston  bernardine.houston@bikes.shop   \n",
       "\n",
       "            phone  active  store_id  manager_id  \n",
       "0  (831) 555-5554       1         1         NaN  \n",
       "1  (831) 555-5555       1         1         1.0  \n",
       "2  (831) 555-5556       1         1         2.0  \n",
       "3  (831) 555-5557       1         1         2.0  \n",
       "4  (516) 379-4444       1         2         1.0  \n",
       "5  (516) 379-4445       1         2         5.0  \n",
       "6  (516) 379-4446       1         2         5.0  \n",
       "7  (972) 530-5555       1         3         1.0  \n",
       "8  (972) 530-5556       1         3         7.0  \n",
       "9  (972) 530-5557       1         3         7.0  "
      ]
     },
     "execution_count": 12,
     "metadata": {},
     "output_type": "execute_result"
    }
   ],
   "source": [
    "df"
   ]
  }
 ],
 "metadata": {
  "colab": {
   "provenance": []
  },
  "kernelspec": {
   "display_name": "Python 3",
   "language": "python",
   "name": "python3"
  },
  "language_info": {
   "codemirror_mode": {
    "name": "ipython",
    "version": 3
   },
   "file_extension": ".py",
   "mimetype": "text/x-python",
   "name": "python",
   "nbconvert_exporter": "python",
   "pygments_lexer": "ipython3",
   "version": "3.8.8"
  }
 },
 "nbformat": 4,
 "nbformat_minor": 5
}
